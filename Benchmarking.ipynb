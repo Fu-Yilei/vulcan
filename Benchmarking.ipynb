{
 "cells": [
  {
   "cell_type": "code",
   "execution_count": null,
   "metadata": {},
   "outputs": [],
   "source": [
    "import os\n",
    "import sys\n",
    "import subprocess\n",
    "import argparse\n",
    "import logging\n",
    "import plotly.graph_objects as go\n",
    "import pysam\n",
    "from tqdm import tqdm\n",
    "import plotly.offline as pyo\n",
    "import numpy as np\n",
    "pyo.init_notebook_mode()\n"
   ]
  },
  {
   "cell_type": "markdown",
   "metadata": {},
   "source": [
    "work_dir is the directory of working folder"
   ]
  },
  {
   "cell_type": "code",
   "execution_count": null,
   "metadata": {},
   "outputs": [],
   "source": [
    "with open(os.path.expanduser(\"~/.vulcan_config\"), \"r\") as config_f:\n",
    "    parameters = config_f.readlines()"
   ]
  },
  {
   "cell_type": "code",
   "execution_count": null,
   "metadata": {},
   "outputs": [],
   "source": [
    "parameters"
   ]
  },
  {
   "cell_type": "code",
   "execution_count": null,
   "metadata": {},
   "outputs": [],
   "source": [
    "threads = int(parameters[0])\n",
    "percentile = int(parameters[1])\n",
    "work_dir = parameters[2][:-1]\n",
    "ngmlr_above_bam = parameters[3][:-1]\n",
    "ngmlr_above_sam = parameters[4][:-1]\n",
    "ngmlr_above_edit_distance = parameters[5][:-1]\n",
    "minimap2_above_bam = parameters[6][:-1]\n",
    "minimap2_above_sam = parameters[7][:-1]\n",
    "minimap2_above_edit_distance = parameters[8][:-1]\n",
    "minimap2_full_bam = parameters[9][:-1]\n",
    "minimap2_full_edit_distance = parameters[10][:-1]\n",
    "final_bam = parameters[11][:-1]\n",
    "final_sam = parameters[12][:-1]\n",
    "final_edit_distance = parameters[13][:-1]\n",
    "raw_edit_distance = bool(int(parameters[14]))"
   ]
  },
  {
   "cell_type": "code",
   "execution_count": null,
   "metadata": {},
   "outputs": [],
   "source": [
    "def get_distance_from_file(distance_file):\n",
    "    with open(distance_file, \"r\") as distance_f:\n",
    "        distance = distance_f.readlines()\n",
    "    distance_list = []\n",
    "    for dist in distance:\n",
    "        distance_list.append(float(dist[:-1].split(\":\")[2]))\n",
    "    return distance_list"
   ]
  },
  {
   "cell_type": "code",
   "execution_count": null,
   "metadata": {},
   "outputs": [],
   "source": [
    "def edit_distance_compare(ngmlr_distance_file, minimap2_distance_file, raw_edit_distance, hybrid):\n",
    "#     ngmlr_distance.sort()\n",
    "#     minimap2_distance.sort()\n",
    "    fig = go.Figure()\n",
    "\n",
    "    ngmlr_distance = get_distance_from_file(ngmlr_distance_file)\n",
    "    minimap2_distance = get_distance_from_file(minimap2_distance_file)\n",
    "    lendic_minimap2 = {}\n",
    "    lencnts_minimap2=[]\n",
    "    if raw_edit_distance:\n",
    "        for i in minimap2_distance:\n",
    "            temploc = int(i/100)*100\n",
    "            if temploc not in lendic_minimap2:\n",
    "                lendic_minimap2.update({temploc:0})\n",
    "            else:\n",
    "                lendic_minimap2[temploc] += 1\n",
    "        lens_minimap2 =  [str(i) for i in np.array(list(sorted(lendic_minimap2.keys())))]\n",
    "        for i in sorted(lendic_minimap2.keys()):\n",
    "            lencnts_minimap2.append(lendic_minimap2[i])\n",
    "\n",
    "\n",
    "        lendic_ngmlr = {}\n",
    "        lencnts_ngmlr = []\n",
    "        for i in ngmlr_distance:\n",
    "            temploc = int(i/100)*100\n",
    "            if temploc not in lendic_ngmlr:\n",
    "                lendic_ngmlr.update({temploc:0})\n",
    "            else:\n",
    "                lendic_ngmlr[temploc] += 1\n",
    "\n",
    "        lens_ngmlr =  [str(i) for i in np.array(list(sorted(lendic_ngmlr.keys())))]\n",
    "        for i in sorted(lendic_ngmlr.keys()):\n",
    "            lencnts_ngmlr.append(lendic_ngmlr[i])\n",
    "        fig.update_layout(\n",
    "            title=\"Raw edit distance distribution\",\n",
    "            xaxis_title=\"edit distances\",\n",
    "            yaxis_title=\"Numbers\",\n",
    "            )\n",
    "    else:\n",
    "        for i in minimap2_distance:\n",
    "            temploc = int(i/0.005)*0.005\n",
    "            if temploc not in lendic_minimap2:\n",
    "                lendic_minimap2.update({temploc:0})\n",
    "            else:\n",
    "                lendic_minimap2[temploc] += 1\n",
    "        lens_minimap2 =  [str(i) for i in np.array(list(sorted(lendic_minimap2.keys())))]\n",
    "        for i in sorted(lendic_minimap2.keys()):\n",
    "            lencnts_minimap2.append(lendic_minimap2[i])\n",
    "\n",
    "        lendic_ngmlr = {}\n",
    "        lencnts_ngmlr = []\n",
    "        for i in ngmlr_distance:\n",
    "            temploc = int(i/0.005)*0.005\n",
    "            if temploc not in lendic_ngmlr:\n",
    "                lendic_ngmlr.update({temploc:0})\n",
    "            else:\n",
    "                lendic_ngmlr[temploc] += 1\n",
    "\n",
    "        lens_ngmlr =  [str(i) for i in np.array(list(sorted(lendic_ngmlr.keys())))]\n",
    "        for i in sorted(lendic_ngmlr.keys()):\n",
    "            lencnts_ngmlr.append(lendic_ngmlr[i])\n",
    "        fig.update_layout(\n",
    "            title=\"Normalized edit distance distribution\",\n",
    "            xaxis_title=\"edit distances\",\n",
    "            yaxis_title=\"Numbers\",\n",
    "            )\n",
    "    fig.add_trace(go.Bar(x= lens_minimap2, y=lencnts_minimap2,  name='minimap2'))\n",
    "    fig.add_trace(go.Scatter(x= lens_minimap2, y=lencnts_minimap2,  name='minimap2'))\n",
    "    if hybrid:\n",
    "        fig.add_trace(go.Bar(x= lens_ngmlr, y=lencnts_ngmlr, name='hybrid_NGMLR'))\n",
    "        fig.add_trace(go.Scatter(x= lens_ngmlr, y=lencnts_ngmlr, name='hybrid_NGMLR'))\n",
    "    else:\n",
    "        fig.add_trace(go.Bar(x= lens_ngmlr, y=lencnts_ngmlr, name='NGMLR'))\n",
    "        fig.add_trace(go.Scatter(x= lens_ngmlr, y=lencnts_ngmlr, name='NGMLR'))\n",
    "\n",
    "    fig.show()"
   ]
  },
  {
   "cell_type": "code",
   "execution_count": null,
   "metadata": {},
   "outputs": [],
   "source": [
    "def bam_to_sam(input_bam, output_sam):\n",
    "    transform_cmd = f\"samtools view -h -@ {threads} {input_bam} -o {output_sam}\"\n",
    "#     logger.info(transform_cmd)\n",
    "    os.system(transform_cmd)"
   ]
  },
  {
   "cell_type": "code",
   "execution_count": null,
   "metadata": {},
   "outputs": [],
   "source": [
    "def generate_distance_file(input_sam, output_txt, raw_edit_distance):\n",
    "    if raw_edit_distance:\n",
    "        os.system(f\"grep -o -E \\\"NM:i:[0-9]+\\\" {input_sam} > {output_txt}\")\n",
    "    else:\n",
    "        samfile = pysam.AlignmentFile(input_sam, \"r\")\n",
    "        with open(output_txt, \"w\") as out_f:\n",
    "            for read in tqdm(samfile.fetch()):\n",
    "                tags = dict(read.tags)\n",
    "                if \"NM\" in tags:\n",
    "                    NM_distance = int(tags[\"NM\"])\n",
    "                    normalized_edit_distance = float(\n",
    "                        NM_distance)/read.query_alignment_length\n",
    "                    out_f.writelines(f\"NM:i:{normalized_edit_distance}\\n\")\n",
    "    return output_txt"
   ]
  },
  {
   "cell_type": "code",
   "execution_count": null,
   "metadata": {},
   "outputs": [],
   "source": [
    "bam_to_sam(ngmlr_above_bam, ngmlr_above_sam)"
   ]
  },
  {
   "cell_type": "code",
   "execution_count": null,
   "metadata": {},
   "outputs": [],
   "source": [
    "bam_to_sam(minimap2_above_bam, minimap2_above_sam)"
   ]
  },
  {
   "cell_type": "code",
   "execution_count": null,
   "metadata": {},
   "outputs": [],
   "source": [
    "generate_distance_file(minimap2_above_sam, minimap2_above_edit_distance, raw_edit_distance)"
   ]
  },
  {
   "cell_type": "code",
   "execution_count": null,
   "metadata": {},
   "outputs": [],
   "source": [
    "edit_distance_compare(ngmlr_above_edit_distance, minimap2_above_edit_distance, raw_edit_distance, hybrid=False)"
   ]
  }
 ],
 "metadata": {
  "kernelspec": {
   "display_name": "Python 3.7.3 64-bit ('base': conda)",
   "language": "python",
   "name": "python37364bitbasecondaf3ea22a62fb84537beb9444ae65a2b66"
  },
  "language_info": {
   "codemirror_mode": {
    "name": "ipython",
    "version": 3
   },
   "file_extension": ".py",
   "mimetype": "text/x-python",
   "name": "python",
   "nbconvert_exporter": "python",
   "pygments_lexer": "ipython3",
   "version": "3.8.6"
  }
 },
 "nbformat": 4,
 "nbformat_minor": 4
}
