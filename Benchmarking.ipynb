{
 "cells": [
  {
   "cell_type": "code",
   "execution_count": 31,
   "metadata": {},
   "outputs": [],
   "source": [
    "import os\n",
    "import sys\n",
    "import subprocess\n",
    "import argparse\n",
    "import logging\n",
    "import plotly.graph_objects as go\n",
    "import pysam\n",
    "from tqdm import tqdm\n",
    "import numpy as np"
   ]
  },
  {
   "cell_type": "code",
   "execution_count": 12,
   "metadata": {},
   "outputs": [],
   "source": [
    "logging.basicConfig(level=logging.INFO,\n",
    "                    format='%(asctime)s - %(name)s - %(levelname)s - %(message)s')\n",
    "logger = logging.getLogger(__name__)\n"
   ]
  },
  {
   "cell_type": "markdown",
   "metadata": {},
   "source": [
    "work_dir is the directory of working folder"
   ]
  },
  {
   "cell_type": "code",
   "execution_count": 51,
   "metadata": {},
   "outputs": [],
   "source": [
    "threads = 60\n",
    "percentile = 90\n",
    "work_dir = \"../Saccharomyces_cerevisiae/work/\"\n",
    "ngmlr_above_bam = os.path.join(work_dir, f\"ngmlr_above{percentile}.bam\")\n",
    "ngmlr_above_sam = os.path.join(work_dir, f\"ngmlr_above{percentile}.sam\")\n",
    "ngmlr_above_edit_distance = os.path.join(work_dir, f\"ngmlr_above{percentile}_distance.txt\")\n",
    "minimap2_above_bam = os.path.join(work_dir, f\"minimap2_above{percentile}.bam\")\n",
    "minimap2_above_sam = os.path.join(work_dir, f\"minimap2_above{percentile}.sam\")\n",
    "minimap2_above_edit_distance = os.path.join(work_dir, f\"minimap2_above{percentile}_distance.txt\")\n",
    "minimap2_full_edit_distance = os.path.join(work_dir, \"minimap2_full_distance.txt\")\n",
    "final_bam = \"../Saccharomyces_cerevisiae/work/final.bam\"\n",
    "final_sam = \"../Saccharomyces_cerevisiae/work/final.sam\"\n",
    "final_edit_distance = \"../Saccharomyces_cerevisiae/work/final_edit_distance.txt\"\n",
    "raw_edit_distance = False"
   ]
  },
  {
   "cell_type": "code",
   "execution_count": 28,
   "metadata": {},
   "outputs": [],
   "source": [
    "def get_distance_from_file(distance_file):\n",
    "    with open(distance_file, \"r\") as distance_f:\n",
    "        distance = distance_f.readlines()\n",
    "    distance_list = []\n",
    "    for dist in distance:\n",
    "        distance_list.append(float(dist[:-1].split(\":\")[2]))\n",
    "    return distance_list"
   ]
  },
  {
   "cell_type": "code",
   "execution_count": 46,
   "metadata": {},
   "outputs": [],
   "source": [
    "def edit_distance_compare(ngmlr_distance_file, minimap2_distance_file, raw_edit_distance):\n",
    "#     ngmlr_distance.sort()\n",
    "#     minimap2_distance.sort()\n",
    "    fig = go.Figure()\n",
    "\n",
    "    ngmlr_distance = get_distance_from_file(ngmlr_distance_file)\n",
    "    minimap2_distance = get_distance_from_file(minimap2_distance_file)\n",
    "    lendic_minimap2 = {}\n",
    "    lencnts_minimap2=[]\n",
    "    if raw_edit_distance:\n",
    "        for i in minimap2_distance:\n",
    "            temploc = int(i/100)*100\n",
    "            if temploc not in lendic_minimap2:\n",
    "                lendic_minimap2.update({temploc:0})\n",
    "            else:\n",
    "                lendic_minimap2[temploc] += 1\n",
    "        lens_minimap2 =  [str(i) for i in np.array(list(sorted(lendic_minimap2.keys())))]\n",
    "        for i in sorted(lendic_minimap2.keys()):\n",
    "            lencnts_minimap2.append(lendic_minimap2[i])\n",
    "\n",
    "\n",
    "        lendic_ngmlr = {}\n",
    "        lencnts_ngmlr = []\n",
    "        for i in ngmlr_distance:\n",
    "            temploc = int(i/100)*100\n",
    "            if temploc not in lendic_ngmlr:\n",
    "                lendic_ngmlr.update({temploc:0})\n",
    "            else:\n",
    "                lendic_ngmlr[temploc] += 1\n",
    "\n",
    "        lens_ngmlr =  [str(i) for i in np.array(list(sorted(lendic_ngmlr.keys())))]\n",
    "        for i in sorted(lendic_ngmlr.keys()):\n",
    "            lencnts_ngmlr.append(lendic_ngmlr[i])\n",
    "        fig.update_layout(\n",
    "            title=\"Raw edit distance distribution\",\n",
    "            xaxis_title=\"edit distances\",\n",
    "            yaxis_title=\"Numbers\",\n",
    "            )\n",
    "    else:\n",
    "        for i in minimap2_distance:\n",
    "            temploc = int(i/0.005)*0.005\n",
    "            if temploc not in lendic_minimap2:\n",
    "                lendic_minimap2.update({temploc:0})\n",
    "            else:\n",
    "                lendic_minimap2[temploc] += 1\n",
    "        lens_minimap2 =  [str(i) for i in np.array(list(sorted(lendic_minimap2.keys())))]\n",
    "        for i in sorted(lendic_minimap2.keys()):\n",
    "            lencnts_minimap2.append(lendic_minimap2[i])\n",
    "\n",
    "\n",
    "        lendic_ngmlr = {}\n",
    "        lencnts_ngmlr = []\n",
    "        for i in ngmlr_distance:\n",
    "            temploc = int(i/0.005)*0.005\n",
    "            if temploc not in lendic_ngmlr:\n",
    "                lendic_ngmlr.update({temploc:0})\n",
    "            else:\n",
    "                lendic_ngmlr[temploc] += 1\n",
    "\n",
    "        lens_ngmlr =  [str(i) for i in np.array(list(sorted(lendic_ngmlr.keys())))]\n",
    "        for i in sorted(lendic_ngmlr.keys()):\n",
    "            lencnts_ngmlr.append(lendic_ngmlr[i])\n",
    "        fig.update_layout(\n",
    "            title=\"Normalized edit distance distribution\",\n",
    "            xaxis_title=\"edit distances\",\n",
    "            yaxis_title=\"Numbers\",\n",
    "            )\n",
    "    fig.add_trace(go.Bar(x= lens_minimap2, y=lencnts_minimap2,  name='minimap2'))\n",
    "    fig.add_trace(go.Scatter(x= lens_minimap2, y=lencnts_minimap2,  name='minimap2'))\n",
    "    fig.add_trace(go.Bar(x= lens_ngmlr, y=lencnts_ngmlr, name='NGMLR'))\n",
    "    fig.add_trace(go.Scatter(x= lens_ngmlr, y=lencnts_ngmlr, name='NGMLR'))\n",
    "\n",
    "\n",
    "    fig.show()"
   ]
  },
  {
   "cell_type": "code",
   "execution_count": 13,
   "metadata": {},
   "outputs": [],
   "source": [
    "def bam_to_sam(input_bam, output_sam):\n",
    "    transform_cmd = f\"samtools view -h -@ {threads} {input_bam} -o {output_sam}\"\n",
    "    logger.info(transform_cmd)\n",
    "    os.system(transform_cmd)"
   ]
  },
  {
   "cell_type": "code",
   "execution_count": 9,
   "metadata": {},
   "outputs": [],
   "source": [
    "def generate_distance_file(input_sam, output_txt, raw_edit_distance):\n",
    "    if raw_edit_distance:\n",
    "        os.system(f\"grep -o -E \\\"NM:i:[0-9]+\\\" {input_sam} > {output_txt}\")\n",
    "    else:\n",
    "        samfile = pysam.AlignmentFile(input_sam, \"r\")\n",
    "        with open(output_txt, \"w\") as out_f:\n",
    "            for read in tqdm(samfile.fetch()):\n",
    "                tags = dict(read.tags)\n",
    "                if \"NM\" in tags:\n",
    "                    NM_distance = int(tags[\"NM\"])\n",
    "                    normalized_edit_distance = float(\n",
    "                        NM_distance)/read.query_alignment_length\n",
    "                    out_f.writelines(f\"NM:i:{normalized_edit_distance}\\n\")\n",
    "    return output_txt"
   ]
  },
  {
   "cell_type": "code",
   "execution_count": 15,
   "metadata": {},
   "outputs": [
    {
     "name": "stderr",
     "output_type": "stream",
     "text": [
      "2020-10-18 02:17:38,907 - __main__ - INFO - samtools view -h -@ 60 ../Saccharomyces_cerevisiae/work/ngmlr_above90.bam -o ../Saccharomyces_cerevisiae/work/ngmlr_above90.sam\n"
     ]
    }
   ],
   "source": [
    "bam_to_sam(ngmlr_above_bam, ngmlr_above_sam)"
   ]
  },
  {
   "cell_type": "code",
   "execution_count": 19,
   "metadata": {},
   "outputs": [
    {
     "name": "stderr",
     "output_type": "stream",
     "text": [
      "2020-10-18 02:21:06,088 - __main__ - INFO - samtools view -h -@ 60 ../Saccharomyces_cerevisiae/work/minimap2_above90.bam -o ../Saccharomyces_cerevisiae/work/minimap2_above90.sam\n"
     ]
    }
   ],
   "source": [
    "bam_to_sam(minimap2_above_bam, minimap2_above_sam)"
   ]
  },
  {
   "cell_type": "code",
   "execution_count": 17,
   "metadata": {},
   "outputs": [
    {
     "name": "stderr",
     "output_type": "stream",
     "text": [
      "5987it [00:00, 47811.92it/s]\n"
     ]
    },
    {
     "data": {
      "text/plain": [
       "'../Saccharomyces_cerevisiae/work/ngmlr_above90_distance.txt'"
      ]
     },
     "execution_count": 17,
     "metadata": {},
     "output_type": "execute_result"
    }
   ],
   "source": [
    "generate_distance_file(ngmlr_above_sam, ngmlr_above_edit_distance, raw_edit_distance)"
   ]
  },
  {
   "cell_type": "code",
   "execution_count": 20,
   "metadata": {},
   "outputs": [
    {
     "name": "stderr",
     "output_type": "stream",
     "text": [
      "6584it [00:00, 46628.16it/s]\n"
     ]
    },
    {
     "data": {
      "text/plain": [
       "'../Saccharomyces_cerevisiae/work/minimap2_above90_distance.txt'"
      ]
     },
     "execution_count": 20,
     "metadata": {},
     "output_type": "execute_result"
    }
   ],
   "source": [
    "generate_distance_file(minimap2_above_sam, minimap2_above_edit_distance, raw_edit_distance)"
   ]
  },
  {
   "cell_type": "code",
   "execution_count": 47,
   "metadata": {},
   "outputs": [
    {
     "data": {
      "application/vnd.plotly.v1+json": {
       "config": {
        "plotlyServerURL": "https://plot.ly"
       },
       "data": [
        {
         "name": "minimap2",
         "type": "bar",
         "x": [
          "0.155",
          "0.16",
          "0.165",
          "0.17",
          "0.17500000000000002",
          "0.18",
          "0.185",
          "0.19",
          "0.195",
          "0.2",
          "0.20500000000000002",
          "0.21",
          "0.215",
          "0.22",
          "0.225",
          "0.23",
          "0.23500000000000001",
          "0.24",
          "0.245",
          "0.25",
          "0.255",
          "0.26",
          "0.27",
          "0.275"
         ],
         "y": [
          1444,
          2252,
          1154,
          618,
          369,
          210,
          167,
          104,
          58,
          68,
          34,
          18,
          9,
          16,
          14,
          7,
          7,
          3,
          4,
          3,
          0,
          1,
          0,
          0
         ]
        },
        {
         "name": "minimap2",
         "type": "scatter",
         "x": [
          "0.155",
          "0.16",
          "0.165",
          "0.17",
          "0.17500000000000002",
          "0.18",
          "0.185",
          "0.19",
          "0.195",
          "0.2",
          "0.20500000000000002",
          "0.21",
          "0.215",
          "0.22",
          "0.225",
          "0.23",
          "0.23500000000000001",
          "0.24",
          "0.245",
          "0.25",
          "0.255",
          "0.26",
          "0.27",
          "0.275"
         ],
         "y": [
          1444,
          2252,
          1154,
          618,
          369,
          210,
          167,
          104,
          58,
          68,
          34,
          18,
          9,
          16,
          14,
          7,
          7,
          3,
          4,
          3,
          0,
          1,
          0,
          0
         ]
        },
        {
         "name": "NGMLR",
         "type": "bar",
         "x": [
          "0.045",
          "0.06",
          "0.075",
          "0.1",
          "0.105",
          "0.11",
          "0.115",
          "0.12",
          "0.125",
          "0.13",
          "0.135",
          "0.14",
          "0.145",
          "0.15",
          "0.155",
          "0.16",
          "0.165",
          "0.17",
          "0.17500000000000002",
          "0.18",
          "0.185",
          "0.19",
          "0.195",
          "0.2",
          "0.20500000000000002",
          "0.21",
          "0.215",
          "0.22",
          "0.225",
          "0.23",
          "0.23500000000000001",
          "0.245",
          "0.27"
         ],
         "y": [
          0,
          0,
          0,
          2,
          1,
          2,
          0,
          4,
          2,
          4,
          7,
          14,
          39,
          200,
          2321,
          1397,
          680,
          307,
          172,
          95,
          52,
          32,
          13,
          15,
          4,
          7,
          3,
          1,
          3,
          2,
          1,
          0,
          0
         ]
        },
        {
         "name": "NGMLR",
         "type": "scatter",
         "x": [
          "0.045",
          "0.06",
          "0.075",
          "0.1",
          "0.105",
          "0.11",
          "0.115",
          "0.12",
          "0.125",
          "0.13",
          "0.135",
          "0.14",
          "0.145",
          "0.15",
          "0.155",
          "0.16",
          "0.165",
          "0.17",
          "0.17500000000000002",
          "0.18",
          "0.185",
          "0.19",
          "0.195",
          "0.2",
          "0.20500000000000002",
          "0.21",
          "0.215",
          "0.22",
          "0.225",
          "0.23",
          "0.23500000000000001",
          "0.245",
          "0.27"
         ],
         "y": [
          0,
          0,
          0,
          2,
          1,
          2,
          0,
          4,
          2,
          4,
          7,
          14,
          39,
          200,
          2321,
          1397,
          680,
          307,
          172,
          95,
          52,
          32,
          13,
          15,
          4,
          7,
          3,
          1,
          3,
          2,
          1,
          0,
          0
         ]
        }
       ],
       "layout": {
        "template": {
         "data": {
          "bar": [
           {
            "error_x": {
             "color": "#2a3f5f"
            },
            "error_y": {
             "color": "#2a3f5f"
            },
            "marker": {
             "line": {
              "color": "#E5ECF6",
              "width": 0.5
             }
            },
            "type": "bar"
           }
          ],
          "barpolar": [
           {
            "marker": {
             "line": {
              "color": "#E5ECF6",
              "width": 0.5
             }
            },
            "type": "barpolar"
           }
          ],
          "carpet": [
           {
            "aaxis": {
             "endlinecolor": "#2a3f5f",
             "gridcolor": "white",
             "linecolor": "white",
             "minorgridcolor": "white",
             "startlinecolor": "#2a3f5f"
            },
            "baxis": {
             "endlinecolor": "#2a3f5f",
             "gridcolor": "white",
             "linecolor": "white",
             "minorgridcolor": "white",
             "startlinecolor": "#2a3f5f"
            },
            "type": "carpet"
           }
          ],
          "choropleth": [
           {
            "colorbar": {
             "outlinewidth": 0,
             "ticks": ""
            },
            "type": "choropleth"
           }
          ],
          "contour": [
           {
            "colorbar": {
             "outlinewidth": 0,
             "ticks": ""
            },
            "colorscale": [
             [
              0,
              "#0d0887"
             ],
             [
              0.1111111111111111,
              "#46039f"
             ],
             [
              0.2222222222222222,
              "#7201a8"
             ],
             [
              0.3333333333333333,
              "#9c179e"
             ],
             [
              0.4444444444444444,
              "#bd3786"
             ],
             [
              0.5555555555555556,
              "#d8576b"
             ],
             [
              0.6666666666666666,
              "#ed7953"
             ],
             [
              0.7777777777777778,
              "#fb9f3a"
             ],
             [
              0.8888888888888888,
              "#fdca26"
             ],
             [
              1,
              "#f0f921"
             ]
            ],
            "type": "contour"
           }
          ],
          "contourcarpet": [
           {
            "colorbar": {
             "outlinewidth": 0,
             "ticks": ""
            },
            "type": "contourcarpet"
           }
          ],
          "heatmap": [
           {
            "colorbar": {
             "outlinewidth": 0,
             "ticks": ""
            },
            "colorscale": [
             [
              0,
              "#0d0887"
             ],
             [
              0.1111111111111111,
              "#46039f"
             ],
             [
              0.2222222222222222,
              "#7201a8"
             ],
             [
              0.3333333333333333,
              "#9c179e"
             ],
             [
              0.4444444444444444,
              "#bd3786"
             ],
             [
              0.5555555555555556,
              "#d8576b"
             ],
             [
              0.6666666666666666,
              "#ed7953"
             ],
             [
              0.7777777777777778,
              "#fb9f3a"
             ],
             [
              0.8888888888888888,
              "#fdca26"
             ],
             [
              1,
              "#f0f921"
             ]
            ],
            "type": "heatmap"
           }
          ],
          "heatmapgl": [
           {
            "colorbar": {
             "outlinewidth": 0,
             "ticks": ""
            },
            "colorscale": [
             [
              0,
              "#0d0887"
             ],
             [
              0.1111111111111111,
              "#46039f"
             ],
             [
              0.2222222222222222,
              "#7201a8"
             ],
             [
              0.3333333333333333,
              "#9c179e"
             ],
             [
              0.4444444444444444,
              "#bd3786"
             ],
             [
              0.5555555555555556,
              "#d8576b"
             ],
             [
              0.6666666666666666,
              "#ed7953"
             ],
             [
              0.7777777777777778,
              "#fb9f3a"
             ],
             [
              0.8888888888888888,
              "#fdca26"
             ],
             [
              1,
              "#f0f921"
             ]
            ],
            "type": "heatmapgl"
           }
          ],
          "histogram": [
           {
            "marker": {
             "colorbar": {
              "outlinewidth": 0,
              "ticks": ""
             }
            },
            "type": "histogram"
           }
          ],
          "histogram2d": [
           {
            "colorbar": {
             "outlinewidth": 0,
             "ticks": ""
            },
            "colorscale": [
             [
              0,
              "#0d0887"
             ],
             [
              0.1111111111111111,
              "#46039f"
             ],
             [
              0.2222222222222222,
              "#7201a8"
             ],
             [
              0.3333333333333333,
              "#9c179e"
             ],
             [
              0.4444444444444444,
              "#bd3786"
             ],
             [
              0.5555555555555556,
              "#d8576b"
             ],
             [
              0.6666666666666666,
              "#ed7953"
             ],
             [
              0.7777777777777778,
              "#fb9f3a"
             ],
             [
              0.8888888888888888,
              "#fdca26"
             ],
             [
              1,
              "#f0f921"
             ]
            ],
            "type": "histogram2d"
           }
          ],
          "histogram2dcontour": [
           {
            "colorbar": {
             "outlinewidth": 0,
             "ticks": ""
            },
            "colorscale": [
             [
              0,
              "#0d0887"
             ],
             [
              0.1111111111111111,
              "#46039f"
             ],
             [
              0.2222222222222222,
              "#7201a8"
             ],
             [
              0.3333333333333333,
              "#9c179e"
             ],
             [
              0.4444444444444444,
              "#bd3786"
             ],
             [
              0.5555555555555556,
              "#d8576b"
             ],
             [
              0.6666666666666666,
              "#ed7953"
             ],
             [
              0.7777777777777778,
              "#fb9f3a"
             ],
             [
              0.8888888888888888,
              "#fdca26"
             ],
             [
              1,
              "#f0f921"
             ]
            ],
            "type": "histogram2dcontour"
           }
          ],
          "mesh3d": [
           {
            "colorbar": {
             "outlinewidth": 0,
             "ticks": ""
            },
            "type": "mesh3d"
           }
          ],
          "parcoords": [
           {
            "line": {
             "colorbar": {
              "outlinewidth": 0,
              "ticks": ""
             }
            },
            "type": "parcoords"
           }
          ],
          "pie": [
           {
            "automargin": true,
            "type": "pie"
           }
          ],
          "scatter": [
           {
            "marker": {
             "colorbar": {
              "outlinewidth": 0,
              "ticks": ""
             }
            },
            "type": "scatter"
           }
          ],
          "scatter3d": [
           {
            "line": {
             "colorbar": {
              "outlinewidth": 0,
              "ticks": ""
             }
            },
            "marker": {
             "colorbar": {
              "outlinewidth": 0,
              "ticks": ""
             }
            },
            "type": "scatter3d"
           }
          ],
          "scattercarpet": [
           {
            "marker": {
             "colorbar": {
              "outlinewidth": 0,
              "ticks": ""
             }
            },
            "type": "scattercarpet"
           }
          ],
          "scattergeo": [
           {
            "marker": {
             "colorbar": {
              "outlinewidth": 0,
              "ticks": ""
             }
            },
            "type": "scattergeo"
           }
          ],
          "scattergl": [
           {
            "marker": {
             "colorbar": {
              "outlinewidth": 0,
              "ticks": ""
             }
            },
            "type": "scattergl"
           }
          ],
          "scattermapbox": [
           {
            "marker": {
             "colorbar": {
              "outlinewidth": 0,
              "ticks": ""
             }
            },
            "type": "scattermapbox"
           }
          ],
          "scatterpolar": [
           {
            "marker": {
             "colorbar": {
              "outlinewidth": 0,
              "ticks": ""
             }
            },
            "type": "scatterpolar"
           }
          ],
          "scatterpolargl": [
           {
            "marker": {
             "colorbar": {
              "outlinewidth": 0,
              "ticks": ""
             }
            },
            "type": "scatterpolargl"
           }
          ],
          "scatterternary": [
           {
            "marker": {
             "colorbar": {
              "outlinewidth": 0,
              "ticks": ""
             }
            },
            "type": "scatterternary"
           }
          ],
          "surface": [
           {
            "colorbar": {
             "outlinewidth": 0,
             "ticks": ""
            },
            "colorscale": [
             [
              0,
              "#0d0887"
             ],
             [
              0.1111111111111111,
              "#46039f"
             ],
             [
              0.2222222222222222,
              "#7201a8"
             ],
             [
              0.3333333333333333,
              "#9c179e"
             ],
             [
              0.4444444444444444,
              "#bd3786"
             ],
             [
              0.5555555555555556,
              "#d8576b"
             ],
             [
              0.6666666666666666,
              "#ed7953"
             ],
             [
              0.7777777777777778,
              "#fb9f3a"
             ],
             [
              0.8888888888888888,
              "#fdca26"
             ],
             [
              1,
              "#f0f921"
             ]
            ],
            "type": "surface"
           }
          ],
          "table": [
           {
            "cells": {
             "fill": {
              "color": "#EBF0F8"
             },
             "line": {
              "color": "white"
             }
            },
            "header": {
             "fill": {
              "color": "#C8D4E3"
             },
             "line": {
              "color": "white"
             }
            },
            "type": "table"
           }
          ]
         },
         "layout": {
          "annotationdefaults": {
           "arrowcolor": "#2a3f5f",
           "arrowhead": 0,
           "arrowwidth": 1
          },
          "coloraxis": {
           "colorbar": {
            "outlinewidth": 0,
            "ticks": ""
           }
          },
          "colorscale": {
           "diverging": [
            [
             0,
             "#8e0152"
            ],
            [
             0.1,
             "#c51b7d"
            ],
            [
             0.2,
             "#de77ae"
            ],
            [
             0.3,
             "#f1b6da"
            ],
            [
             0.4,
             "#fde0ef"
            ],
            [
             0.5,
             "#f7f7f7"
            ],
            [
             0.6,
             "#e6f5d0"
            ],
            [
             0.7,
             "#b8e186"
            ],
            [
             0.8,
             "#7fbc41"
            ],
            [
             0.9,
             "#4d9221"
            ],
            [
             1,
             "#276419"
            ]
           ],
           "sequential": [
            [
             0,
             "#0d0887"
            ],
            [
             0.1111111111111111,
             "#46039f"
            ],
            [
             0.2222222222222222,
             "#7201a8"
            ],
            [
             0.3333333333333333,
             "#9c179e"
            ],
            [
             0.4444444444444444,
             "#bd3786"
            ],
            [
             0.5555555555555556,
             "#d8576b"
            ],
            [
             0.6666666666666666,
             "#ed7953"
            ],
            [
             0.7777777777777778,
             "#fb9f3a"
            ],
            [
             0.8888888888888888,
             "#fdca26"
            ],
            [
             1,
             "#f0f921"
            ]
           ],
           "sequentialminus": [
            [
             0,
             "#0d0887"
            ],
            [
             0.1111111111111111,
             "#46039f"
            ],
            [
             0.2222222222222222,
             "#7201a8"
            ],
            [
             0.3333333333333333,
             "#9c179e"
            ],
            [
             0.4444444444444444,
             "#bd3786"
            ],
            [
             0.5555555555555556,
             "#d8576b"
            ],
            [
             0.6666666666666666,
             "#ed7953"
            ],
            [
             0.7777777777777778,
             "#fb9f3a"
            ],
            [
             0.8888888888888888,
             "#fdca26"
            ],
            [
             1,
             "#f0f921"
            ]
           ]
          },
          "colorway": [
           "#636efa",
           "#EF553B",
           "#00cc96",
           "#ab63fa",
           "#FFA15A",
           "#19d3f3",
           "#FF6692",
           "#B6E880",
           "#FF97FF",
           "#FECB52"
          ],
          "font": {
           "color": "#2a3f5f"
          },
          "geo": {
           "bgcolor": "white",
           "lakecolor": "white",
           "landcolor": "#E5ECF6",
           "showlakes": true,
           "showland": true,
           "subunitcolor": "white"
          },
          "hoverlabel": {
           "align": "left"
          },
          "hovermode": "closest",
          "mapbox": {
           "style": "light"
          },
          "paper_bgcolor": "white",
          "plot_bgcolor": "#E5ECF6",
          "polar": {
           "angularaxis": {
            "gridcolor": "white",
            "linecolor": "white",
            "ticks": ""
           },
           "bgcolor": "#E5ECF6",
           "radialaxis": {
            "gridcolor": "white",
            "linecolor": "white",
            "ticks": ""
           }
          },
          "scene": {
           "xaxis": {
            "backgroundcolor": "#E5ECF6",
            "gridcolor": "white",
            "gridwidth": 2,
            "linecolor": "white",
            "showbackground": true,
            "ticks": "",
            "zerolinecolor": "white"
           },
           "yaxis": {
            "backgroundcolor": "#E5ECF6",
            "gridcolor": "white",
            "gridwidth": 2,
            "linecolor": "white",
            "showbackground": true,
            "ticks": "",
            "zerolinecolor": "white"
           },
           "zaxis": {
            "backgroundcolor": "#E5ECF6",
            "gridcolor": "white",
            "gridwidth": 2,
            "linecolor": "white",
            "showbackground": true,
            "ticks": "",
            "zerolinecolor": "white"
           }
          },
          "shapedefaults": {
           "line": {
            "color": "#2a3f5f"
           }
          },
          "ternary": {
           "aaxis": {
            "gridcolor": "white",
            "linecolor": "white",
            "ticks": ""
           },
           "baxis": {
            "gridcolor": "white",
            "linecolor": "white",
            "ticks": ""
           },
           "bgcolor": "#E5ECF6",
           "caxis": {
            "gridcolor": "white",
            "linecolor": "white",
            "ticks": ""
           }
          },
          "title": {
           "x": 0.05
          },
          "xaxis": {
           "automargin": true,
           "gridcolor": "white",
           "linecolor": "white",
           "ticks": "",
           "title": {
            "standoff": 15
           },
           "zerolinecolor": "white",
           "zerolinewidth": 2
          },
          "yaxis": {
           "automargin": true,
           "gridcolor": "white",
           "linecolor": "white",
           "ticks": "",
           "title": {
            "standoff": 15
           },
           "zerolinecolor": "white",
           "zerolinewidth": 2
          }
         }
        },
        "title": {
         "text": "Normalized edit distance distribution"
        },
        "xaxis": {
         "title": {
          "text": "edit distances"
         }
        },
        "yaxis": {
         "title": {
          "text": "Numbers"
         }
        }
       }
      },
      "text/html": [
       "<div>                            <div id=\"d90bba24-9399-4675-9812-3fbba05ecbf7\" class=\"plotly-graph-div\" style=\"height:525px; width:100%;\"></div>            <script type=\"text/javascript\">                require([\"plotly\"], function(Plotly) {                    window.PLOTLYENV=window.PLOTLYENV || {};                                    if (document.getElementById(\"d90bba24-9399-4675-9812-3fbba05ecbf7\")) {                    Plotly.newPlot(                        \"d90bba24-9399-4675-9812-3fbba05ecbf7\",                        [{\"name\": \"minimap2\", \"type\": \"bar\", \"x\": [\"0.155\", \"0.16\", \"0.165\", \"0.17\", \"0.17500000000000002\", \"0.18\", \"0.185\", \"0.19\", \"0.195\", \"0.2\", \"0.20500000000000002\", \"0.21\", \"0.215\", \"0.22\", \"0.225\", \"0.23\", \"0.23500000000000001\", \"0.24\", \"0.245\", \"0.25\", \"0.255\", \"0.26\", \"0.27\", \"0.275\"], \"y\": [1444, 2252, 1154, 618, 369, 210, 167, 104, 58, 68, 34, 18, 9, 16, 14, 7, 7, 3, 4, 3, 0, 1, 0, 0]}, {\"name\": \"minimap2\", \"type\": \"scatter\", \"x\": [\"0.155\", \"0.16\", \"0.165\", \"0.17\", \"0.17500000000000002\", \"0.18\", \"0.185\", \"0.19\", \"0.195\", \"0.2\", \"0.20500000000000002\", \"0.21\", \"0.215\", \"0.22\", \"0.225\", \"0.23\", \"0.23500000000000001\", \"0.24\", \"0.245\", \"0.25\", \"0.255\", \"0.26\", \"0.27\", \"0.275\"], \"y\": [1444, 2252, 1154, 618, 369, 210, 167, 104, 58, 68, 34, 18, 9, 16, 14, 7, 7, 3, 4, 3, 0, 1, 0, 0]}, {\"name\": \"NGMLR\", \"type\": \"bar\", \"x\": [\"0.045\", \"0.06\", \"0.075\", \"0.1\", \"0.105\", \"0.11\", \"0.115\", \"0.12\", \"0.125\", \"0.13\", \"0.135\", \"0.14\", \"0.145\", \"0.15\", \"0.155\", \"0.16\", \"0.165\", \"0.17\", \"0.17500000000000002\", \"0.18\", \"0.185\", \"0.19\", \"0.195\", \"0.2\", \"0.20500000000000002\", \"0.21\", \"0.215\", \"0.22\", \"0.225\", \"0.23\", \"0.23500000000000001\", \"0.245\", \"0.27\"], \"y\": [0, 0, 0, 2, 1, 2, 0, 4, 2, 4, 7, 14, 39, 200, 2321, 1397, 680, 307, 172, 95, 52, 32, 13, 15, 4, 7, 3, 1, 3, 2, 1, 0, 0]}, {\"name\": \"NGMLR\", \"type\": \"scatter\", \"x\": [\"0.045\", \"0.06\", \"0.075\", \"0.1\", \"0.105\", \"0.11\", \"0.115\", \"0.12\", \"0.125\", \"0.13\", \"0.135\", \"0.14\", \"0.145\", \"0.15\", \"0.155\", \"0.16\", \"0.165\", \"0.17\", \"0.17500000000000002\", \"0.18\", \"0.185\", \"0.19\", \"0.195\", \"0.2\", \"0.20500000000000002\", \"0.21\", \"0.215\", \"0.22\", \"0.225\", \"0.23\", \"0.23500000000000001\", \"0.245\", \"0.27\"], \"y\": [0, 0, 0, 2, 1, 2, 0, 4, 2, 4, 7, 14, 39, 200, 2321, 1397, 680, 307, 172, 95, 52, 32, 13, 15, 4, 7, 3, 1, 3, 2, 1, 0, 0]}],                        {\"template\": {\"data\": {\"bar\": [{\"error_x\": {\"color\": \"#2a3f5f\"}, \"error_y\": {\"color\": \"#2a3f5f\"}, \"marker\": {\"line\": {\"color\": \"#E5ECF6\", \"width\": 0.5}}, \"type\": \"bar\"}], \"barpolar\": [{\"marker\": {\"line\": {\"color\": \"#E5ECF6\", \"width\": 0.5}}, \"type\": \"barpolar\"}], \"carpet\": [{\"aaxis\": {\"endlinecolor\": \"#2a3f5f\", \"gridcolor\": \"white\", \"linecolor\": \"white\", \"minorgridcolor\": \"white\", \"startlinecolor\": \"#2a3f5f\"}, \"baxis\": {\"endlinecolor\": \"#2a3f5f\", \"gridcolor\": \"white\", \"linecolor\": \"white\", \"minorgridcolor\": \"white\", \"startlinecolor\": \"#2a3f5f\"}, \"type\": \"carpet\"}], \"choropleth\": [{\"colorbar\": {\"outlinewidth\": 0, \"ticks\": \"\"}, \"type\": \"choropleth\"}], \"contour\": [{\"colorbar\": {\"outlinewidth\": 0, \"ticks\": \"\"}, \"colorscale\": [[0.0, \"#0d0887\"], [0.1111111111111111, \"#46039f\"], [0.2222222222222222, \"#7201a8\"], [0.3333333333333333, \"#9c179e\"], [0.4444444444444444, \"#bd3786\"], [0.5555555555555556, \"#d8576b\"], [0.6666666666666666, \"#ed7953\"], [0.7777777777777778, \"#fb9f3a\"], [0.8888888888888888, \"#fdca26\"], [1.0, \"#f0f921\"]], \"type\": \"contour\"}], \"contourcarpet\": [{\"colorbar\": {\"outlinewidth\": 0, \"ticks\": \"\"}, \"type\": \"contourcarpet\"}], \"heatmap\": [{\"colorbar\": {\"outlinewidth\": 0, \"ticks\": \"\"}, \"colorscale\": [[0.0, \"#0d0887\"], [0.1111111111111111, \"#46039f\"], [0.2222222222222222, \"#7201a8\"], [0.3333333333333333, \"#9c179e\"], [0.4444444444444444, \"#bd3786\"], [0.5555555555555556, \"#d8576b\"], [0.6666666666666666, \"#ed7953\"], [0.7777777777777778, \"#fb9f3a\"], [0.8888888888888888, \"#fdca26\"], [1.0, \"#f0f921\"]], \"type\": \"heatmap\"}], \"heatmapgl\": [{\"colorbar\": {\"outlinewidth\": 0, \"ticks\": \"\"}, \"colorscale\": [[0.0, \"#0d0887\"], [0.1111111111111111, \"#46039f\"], [0.2222222222222222, \"#7201a8\"], [0.3333333333333333, \"#9c179e\"], [0.4444444444444444, \"#bd3786\"], [0.5555555555555556, \"#d8576b\"], [0.6666666666666666, \"#ed7953\"], [0.7777777777777778, \"#fb9f3a\"], [0.8888888888888888, \"#fdca26\"], [1.0, \"#f0f921\"]], \"type\": \"heatmapgl\"}], \"histogram\": [{\"marker\": {\"colorbar\": {\"outlinewidth\": 0, \"ticks\": \"\"}}, \"type\": \"histogram\"}], \"histogram2d\": [{\"colorbar\": {\"outlinewidth\": 0, \"ticks\": \"\"}, \"colorscale\": [[0.0, \"#0d0887\"], [0.1111111111111111, \"#46039f\"], [0.2222222222222222, \"#7201a8\"], [0.3333333333333333, \"#9c179e\"], [0.4444444444444444, \"#bd3786\"], [0.5555555555555556, \"#d8576b\"], [0.6666666666666666, \"#ed7953\"], [0.7777777777777778, \"#fb9f3a\"], [0.8888888888888888, \"#fdca26\"], [1.0, \"#f0f921\"]], \"type\": \"histogram2d\"}], \"histogram2dcontour\": [{\"colorbar\": {\"outlinewidth\": 0, \"ticks\": \"\"}, \"colorscale\": [[0.0, \"#0d0887\"], [0.1111111111111111, \"#46039f\"], [0.2222222222222222, \"#7201a8\"], [0.3333333333333333, \"#9c179e\"], [0.4444444444444444, \"#bd3786\"], [0.5555555555555556, \"#d8576b\"], [0.6666666666666666, \"#ed7953\"], [0.7777777777777778, \"#fb9f3a\"], [0.8888888888888888, \"#fdca26\"], [1.0, \"#f0f921\"]], \"type\": \"histogram2dcontour\"}], \"mesh3d\": [{\"colorbar\": {\"outlinewidth\": 0, \"ticks\": \"\"}, \"type\": \"mesh3d\"}], \"parcoords\": [{\"line\": {\"colorbar\": {\"outlinewidth\": 0, \"ticks\": \"\"}}, \"type\": \"parcoords\"}], \"pie\": [{\"automargin\": true, \"type\": \"pie\"}], \"scatter\": [{\"marker\": {\"colorbar\": {\"outlinewidth\": 0, \"ticks\": \"\"}}, \"type\": \"scatter\"}], \"scatter3d\": [{\"line\": {\"colorbar\": {\"outlinewidth\": 0, \"ticks\": \"\"}}, \"marker\": {\"colorbar\": {\"outlinewidth\": 0, \"ticks\": \"\"}}, \"type\": \"scatter3d\"}], \"scattercarpet\": [{\"marker\": {\"colorbar\": {\"outlinewidth\": 0, \"ticks\": \"\"}}, \"type\": \"scattercarpet\"}], \"scattergeo\": [{\"marker\": {\"colorbar\": {\"outlinewidth\": 0, \"ticks\": \"\"}}, \"type\": \"scattergeo\"}], \"scattergl\": [{\"marker\": {\"colorbar\": {\"outlinewidth\": 0, \"ticks\": \"\"}}, \"type\": \"scattergl\"}], \"scattermapbox\": [{\"marker\": {\"colorbar\": {\"outlinewidth\": 0, \"ticks\": \"\"}}, \"type\": \"scattermapbox\"}], \"scatterpolar\": [{\"marker\": {\"colorbar\": {\"outlinewidth\": 0, \"ticks\": \"\"}}, \"type\": \"scatterpolar\"}], \"scatterpolargl\": [{\"marker\": {\"colorbar\": {\"outlinewidth\": 0, \"ticks\": \"\"}}, \"type\": \"scatterpolargl\"}], \"scatterternary\": [{\"marker\": {\"colorbar\": {\"outlinewidth\": 0, \"ticks\": \"\"}}, \"type\": \"scatterternary\"}], \"surface\": [{\"colorbar\": {\"outlinewidth\": 0, \"ticks\": \"\"}, \"colorscale\": [[0.0, \"#0d0887\"], [0.1111111111111111, \"#46039f\"], [0.2222222222222222, \"#7201a8\"], [0.3333333333333333, \"#9c179e\"], [0.4444444444444444, \"#bd3786\"], [0.5555555555555556, \"#d8576b\"], [0.6666666666666666, \"#ed7953\"], [0.7777777777777778, \"#fb9f3a\"], [0.8888888888888888, \"#fdca26\"], [1.0, \"#f0f921\"]], \"type\": \"surface\"}], \"table\": [{\"cells\": {\"fill\": {\"color\": \"#EBF0F8\"}, \"line\": {\"color\": \"white\"}}, \"header\": {\"fill\": {\"color\": \"#C8D4E3\"}, \"line\": {\"color\": \"white\"}}, \"type\": \"table\"}]}, \"layout\": {\"annotationdefaults\": {\"arrowcolor\": \"#2a3f5f\", \"arrowhead\": 0, \"arrowwidth\": 1}, \"coloraxis\": {\"colorbar\": {\"outlinewidth\": 0, \"ticks\": \"\"}}, \"colorscale\": {\"diverging\": [[0, \"#8e0152\"], [0.1, \"#c51b7d\"], [0.2, \"#de77ae\"], [0.3, \"#f1b6da\"], [0.4, \"#fde0ef\"], [0.5, \"#f7f7f7\"], [0.6, \"#e6f5d0\"], [0.7, \"#b8e186\"], [0.8, \"#7fbc41\"], [0.9, \"#4d9221\"], [1, \"#276419\"]], \"sequential\": [[0.0, \"#0d0887\"], [0.1111111111111111, \"#46039f\"], [0.2222222222222222, \"#7201a8\"], [0.3333333333333333, \"#9c179e\"], [0.4444444444444444, \"#bd3786\"], [0.5555555555555556, \"#d8576b\"], [0.6666666666666666, \"#ed7953\"], [0.7777777777777778, \"#fb9f3a\"], [0.8888888888888888, \"#fdca26\"], [1.0, \"#f0f921\"]], \"sequentialminus\": [[0.0, \"#0d0887\"], [0.1111111111111111, \"#46039f\"], [0.2222222222222222, \"#7201a8\"], [0.3333333333333333, \"#9c179e\"], [0.4444444444444444, \"#bd3786\"], [0.5555555555555556, \"#d8576b\"], [0.6666666666666666, \"#ed7953\"], [0.7777777777777778, \"#fb9f3a\"], [0.8888888888888888, \"#fdca26\"], [1.0, \"#f0f921\"]]}, \"colorway\": [\"#636efa\", \"#EF553B\", \"#00cc96\", \"#ab63fa\", \"#FFA15A\", \"#19d3f3\", \"#FF6692\", \"#B6E880\", \"#FF97FF\", \"#FECB52\"], \"font\": {\"color\": \"#2a3f5f\"}, \"geo\": {\"bgcolor\": \"white\", \"lakecolor\": \"white\", \"landcolor\": \"#E5ECF6\", \"showlakes\": true, \"showland\": true, \"subunitcolor\": \"white\"}, \"hoverlabel\": {\"align\": \"left\"}, \"hovermode\": \"closest\", \"mapbox\": {\"style\": \"light\"}, \"paper_bgcolor\": \"white\", \"plot_bgcolor\": \"#E5ECF6\", \"polar\": {\"angularaxis\": {\"gridcolor\": \"white\", \"linecolor\": \"white\", \"ticks\": \"\"}, \"bgcolor\": \"#E5ECF6\", \"radialaxis\": {\"gridcolor\": \"white\", \"linecolor\": \"white\", \"ticks\": \"\"}}, \"scene\": {\"xaxis\": {\"backgroundcolor\": \"#E5ECF6\", \"gridcolor\": \"white\", \"gridwidth\": 2, \"linecolor\": \"white\", \"showbackground\": true, \"ticks\": \"\", \"zerolinecolor\": \"white\"}, \"yaxis\": {\"backgroundcolor\": \"#E5ECF6\", \"gridcolor\": \"white\", \"gridwidth\": 2, \"linecolor\": \"white\", \"showbackground\": true, \"ticks\": \"\", \"zerolinecolor\": \"white\"}, \"zaxis\": {\"backgroundcolor\": \"#E5ECF6\", \"gridcolor\": \"white\", \"gridwidth\": 2, \"linecolor\": \"white\", \"showbackground\": true, \"ticks\": \"\", \"zerolinecolor\": \"white\"}}, \"shapedefaults\": {\"line\": {\"color\": \"#2a3f5f\"}}, \"ternary\": {\"aaxis\": {\"gridcolor\": \"white\", \"linecolor\": \"white\", \"ticks\": \"\"}, \"baxis\": {\"gridcolor\": \"white\", \"linecolor\": \"white\", \"ticks\": \"\"}, \"bgcolor\": \"#E5ECF6\", \"caxis\": {\"gridcolor\": \"white\", \"linecolor\": \"white\", \"ticks\": \"\"}}, \"title\": {\"x\": 0.05}, \"xaxis\": {\"automargin\": true, \"gridcolor\": \"white\", \"linecolor\": \"white\", \"ticks\": \"\", \"title\": {\"standoff\": 15}, \"zerolinecolor\": \"white\", \"zerolinewidth\": 2}, \"yaxis\": {\"automargin\": true, \"gridcolor\": \"white\", \"linecolor\": \"white\", \"ticks\": \"\", \"title\": {\"standoff\": 15}, \"zerolinecolor\": \"white\", \"zerolinewidth\": 2}}}, \"title\": {\"text\": \"Normalized edit distance distribution\"}, \"xaxis\": {\"title\": {\"text\": \"edit distances\"}}, \"yaxis\": {\"title\": {\"text\": \"Numbers\"}}},                        {\"responsive\": true}                    ).then(function(){\n",
       "                            \n",
       "var gd = document.getElementById('d90bba24-9399-4675-9812-3fbba05ecbf7');\n",
       "var x = new MutationObserver(function (mutations, observer) {{\n",
       "        var display = window.getComputedStyle(gd).display;\n",
       "        if (!display || display === 'none') {{\n",
       "            console.log([gd, 'removed!']);\n",
       "            Plotly.purge(gd);\n",
       "            observer.disconnect();\n",
       "        }}\n",
       "}});\n",
       "\n",
       "// Listen for the removal of the full notebook cells\n",
       "var notebookContainer = gd.closest('#notebook-container');\n",
       "if (notebookContainer) {{\n",
       "    x.observe(notebookContainer, {childList: true});\n",
       "}}\n",
       "\n",
       "// Listen for the clearing of the current output cell\n",
       "var outputEl = gd.closest('.output');\n",
       "if (outputEl) {{\n",
       "    x.observe(outputEl, {childList: true});\n",
       "}}\n",
       "\n",
       "                        })                };                });            </script>        </div>"
      ]
     },
     "metadata": {},
     "output_type": "display_data"
    }
   ],
   "source": [
    "edit_distance_compare(ngmlr_above_edit_distance, minimap2_above_edit_distance, raw_edit_distance)"
   ]
  },
  {
   "cell_type": "code",
   "execution_count": 49,
   "metadata": {},
   "outputs": [
    {
     "name": "stderr",
     "output_type": "stream",
     "text": [
      "2020-10-18 02:38:53,114 - __main__ - INFO - samtools view -h -@ 60 ../Saccharomyces_cerevisiae/work/final.bam -o ../Saccharomyces_cerevisiae/work/final.sam\n"
     ]
    }
   ],
   "source": [
    "bam_to_sam(final_bam, final_sam)"
   ]
  },
  {
   "cell_type": "code",
   "execution_count": 50,
   "metadata": {},
   "outputs": [
    {
     "name": "stderr",
     "output_type": "stream",
     "text": [
      "61196it [00:01, 41150.31it/s]\n"
     ]
    },
    {
     "data": {
      "text/plain": [
       "'../Saccharomyces_cerevisiae/work/final_edit_distance.txt'"
      ]
     },
     "execution_count": 50,
     "metadata": {},
     "output_type": "execute_result"
    }
   ],
   "source": [
    "generate_distance_file(final_sam, final_edit_distance, raw_edit_distance)"
   ]
  },
  {
   "cell_type": "code",
   "execution_count": 52,
   "metadata": {},
   "outputs": [
    {
     "data": {
      "application/vnd.plotly.v1+json": {
       "config": {
        "plotlyServerURL": "https://plot.ly"
       },
       "data": [
        {
         "name": "minimap2",
         "type": "bar",
         "x": [
          "0.0",
          "0.015",
          "0.02",
          "0.025",
          "0.03",
          "0.035",
          "0.04",
          "0.045",
          "0.05",
          "0.055",
          "0.06",
          "0.065",
          "0.07",
          "0.075",
          "0.08",
          "0.085",
          "0.09",
          "0.095",
          "0.1",
          "0.105",
          "0.11",
          "0.115",
          "0.12",
          "0.125",
          "0.13",
          "0.135",
          "0.14",
          "0.145",
          "0.15",
          "0.155",
          "0.16",
          "0.165",
          "0.17",
          "0.17500000000000002",
          "0.18",
          "0.185",
          "0.19",
          "0.195",
          "0.2",
          "0.20500000000000002",
          "0.21",
          "0.215",
          "0.22",
          "0.225",
          "0.23",
          "0.23500000000000001",
          "0.24",
          "0.245",
          "0.25",
          "0.255",
          "0.26",
          "0.275"
         ],
         "y": [
          0,
          1,
          0,
          3,
          3,
          9,
          9,
          5,
          18,
          21,
          21,
          30,
          46,
          46,
          69,
          87,
          129,
          129,
          221,
          348,
          643,
          1090,
          2070,
          3958,
          6394,
          9151,
          10486,
          9294,
          6626,
          3880,
          2124,
          1067,
          543,
          280,
          164,
          117,
          75,
          37,
          45,
          26,
          12,
          8,
          12,
          10,
          5,
          7,
          2,
          3,
          0,
          0,
          0,
          0
         ]
        },
        {
         "name": "minimap2",
         "type": "scatter",
         "x": [
          "0.0",
          "0.015",
          "0.02",
          "0.025",
          "0.03",
          "0.035",
          "0.04",
          "0.045",
          "0.05",
          "0.055",
          "0.06",
          "0.065",
          "0.07",
          "0.075",
          "0.08",
          "0.085",
          "0.09",
          "0.095",
          "0.1",
          "0.105",
          "0.11",
          "0.115",
          "0.12",
          "0.125",
          "0.13",
          "0.135",
          "0.14",
          "0.145",
          "0.15",
          "0.155",
          "0.16",
          "0.165",
          "0.17",
          "0.17500000000000002",
          "0.18",
          "0.185",
          "0.19",
          "0.195",
          "0.2",
          "0.20500000000000002",
          "0.21",
          "0.215",
          "0.22",
          "0.225",
          "0.23",
          "0.23500000000000001",
          "0.24",
          "0.245",
          "0.25",
          "0.255",
          "0.26",
          "0.275"
         ],
         "y": [
          0,
          1,
          0,
          3,
          3,
          9,
          9,
          5,
          18,
          21,
          21,
          30,
          46,
          46,
          69,
          87,
          129,
          129,
          221,
          348,
          643,
          1090,
          2070,
          3958,
          6394,
          9151,
          10486,
          9294,
          6626,
          3880,
          2124,
          1067,
          543,
          280,
          164,
          117,
          75,
          37,
          45,
          26,
          12,
          8,
          12,
          10,
          5,
          7,
          2,
          3,
          0,
          0,
          0,
          0
         ]
        },
        {
         "name": "NGMLR",
         "type": "bar",
         "x": [
          "0.0",
          "0.015",
          "0.02",
          "0.025",
          "0.03",
          "0.035",
          "0.04",
          "0.045",
          "0.05",
          "0.055",
          "0.06",
          "0.065",
          "0.07",
          "0.075",
          "0.08",
          "0.085",
          "0.09",
          "0.095",
          "0.1",
          "0.105",
          "0.11",
          "0.115",
          "0.12",
          "0.125",
          "0.13",
          "0.135",
          "0.14",
          "0.145",
          "0.15",
          "0.155",
          "0.16",
          "0.165",
          "0.17",
          "0.17500000000000002",
          "0.18",
          "0.185",
          "0.19",
          "0.195",
          "0.2",
          "0.20500000000000002",
          "0.21",
          "0.215",
          "0.22",
          "0.225",
          "0.23",
          "0.23500000000000001",
          "0.245",
          "0.27"
         ],
         "y": [
          0,
          1,
          0,
          3,
          3,
          10,
          9,
          6,
          21,
          23,
          24,
          39,
          47,
          53,
          70,
          87,
          137,
          145,
          248,
          378,
          690,
          1198,
          2165,
          4139,
          6563,
          9378,
          10751,
          9594,
          7073,
          4935,
          1397,
          680,
          307,
          172,
          95,
          52,
          32,
          13,
          15,
          4,
          7,
          3,
          1,
          3,
          2,
          1,
          0,
          0
         ]
        },
        {
         "name": "NGMLR",
         "type": "scatter",
         "x": [
          "0.0",
          "0.015",
          "0.02",
          "0.025",
          "0.03",
          "0.035",
          "0.04",
          "0.045",
          "0.05",
          "0.055",
          "0.06",
          "0.065",
          "0.07",
          "0.075",
          "0.08",
          "0.085",
          "0.09",
          "0.095",
          "0.1",
          "0.105",
          "0.11",
          "0.115",
          "0.12",
          "0.125",
          "0.13",
          "0.135",
          "0.14",
          "0.145",
          "0.15",
          "0.155",
          "0.16",
          "0.165",
          "0.17",
          "0.17500000000000002",
          "0.18",
          "0.185",
          "0.19",
          "0.195",
          "0.2",
          "0.20500000000000002",
          "0.21",
          "0.215",
          "0.22",
          "0.225",
          "0.23",
          "0.23500000000000001",
          "0.245",
          "0.27"
         ],
         "y": [
          0,
          1,
          0,
          3,
          3,
          10,
          9,
          6,
          21,
          23,
          24,
          39,
          47,
          53,
          70,
          87,
          137,
          145,
          248,
          378,
          690,
          1198,
          2165,
          4139,
          6563,
          9378,
          10751,
          9594,
          7073,
          4935,
          1397,
          680,
          307,
          172,
          95,
          52,
          32,
          13,
          15,
          4,
          7,
          3,
          1,
          3,
          2,
          1,
          0,
          0
         ]
        }
       ],
       "layout": {
        "template": {
         "data": {
          "bar": [
           {
            "error_x": {
             "color": "#2a3f5f"
            },
            "error_y": {
             "color": "#2a3f5f"
            },
            "marker": {
             "line": {
              "color": "#E5ECF6",
              "width": 0.5
             }
            },
            "type": "bar"
           }
          ],
          "barpolar": [
           {
            "marker": {
             "line": {
              "color": "#E5ECF6",
              "width": 0.5
             }
            },
            "type": "barpolar"
           }
          ],
          "carpet": [
           {
            "aaxis": {
             "endlinecolor": "#2a3f5f",
             "gridcolor": "white",
             "linecolor": "white",
             "minorgridcolor": "white",
             "startlinecolor": "#2a3f5f"
            },
            "baxis": {
             "endlinecolor": "#2a3f5f",
             "gridcolor": "white",
             "linecolor": "white",
             "minorgridcolor": "white",
             "startlinecolor": "#2a3f5f"
            },
            "type": "carpet"
           }
          ],
          "choropleth": [
           {
            "colorbar": {
             "outlinewidth": 0,
             "ticks": ""
            },
            "type": "choropleth"
           }
          ],
          "contour": [
           {
            "colorbar": {
             "outlinewidth": 0,
             "ticks": ""
            },
            "colorscale": [
             [
              0,
              "#0d0887"
             ],
             [
              0.1111111111111111,
              "#46039f"
             ],
             [
              0.2222222222222222,
              "#7201a8"
             ],
             [
              0.3333333333333333,
              "#9c179e"
             ],
             [
              0.4444444444444444,
              "#bd3786"
             ],
             [
              0.5555555555555556,
              "#d8576b"
             ],
             [
              0.6666666666666666,
              "#ed7953"
             ],
             [
              0.7777777777777778,
              "#fb9f3a"
             ],
             [
              0.8888888888888888,
              "#fdca26"
             ],
             [
              1,
              "#f0f921"
             ]
            ],
            "type": "contour"
           }
          ],
          "contourcarpet": [
           {
            "colorbar": {
             "outlinewidth": 0,
             "ticks": ""
            },
            "type": "contourcarpet"
           }
          ],
          "heatmap": [
           {
            "colorbar": {
             "outlinewidth": 0,
             "ticks": ""
            },
            "colorscale": [
             [
              0,
              "#0d0887"
             ],
             [
              0.1111111111111111,
              "#46039f"
             ],
             [
              0.2222222222222222,
              "#7201a8"
             ],
             [
              0.3333333333333333,
              "#9c179e"
             ],
             [
              0.4444444444444444,
              "#bd3786"
             ],
             [
              0.5555555555555556,
              "#d8576b"
             ],
             [
              0.6666666666666666,
              "#ed7953"
             ],
             [
              0.7777777777777778,
              "#fb9f3a"
             ],
             [
              0.8888888888888888,
              "#fdca26"
             ],
             [
              1,
              "#f0f921"
             ]
            ],
            "type": "heatmap"
           }
          ],
          "heatmapgl": [
           {
            "colorbar": {
             "outlinewidth": 0,
             "ticks": ""
            },
            "colorscale": [
             [
              0,
              "#0d0887"
             ],
             [
              0.1111111111111111,
              "#46039f"
             ],
             [
              0.2222222222222222,
              "#7201a8"
             ],
             [
              0.3333333333333333,
              "#9c179e"
             ],
             [
              0.4444444444444444,
              "#bd3786"
             ],
             [
              0.5555555555555556,
              "#d8576b"
             ],
             [
              0.6666666666666666,
              "#ed7953"
             ],
             [
              0.7777777777777778,
              "#fb9f3a"
             ],
             [
              0.8888888888888888,
              "#fdca26"
             ],
             [
              1,
              "#f0f921"
             ]
            ],
            "type": "heatmapgl"
           }
          ],
          "histogram": [
           {
            "marker": {
             "colorbar": {
              "outlinewidth": 0,
              "ticks": ""
             }
            },
            "type": "histogram"
           }
          ],
          "histogram2d": [
           {
            "colorbar": {
             "outlinewidth": 0,
             "ticks": ""
            },
            "colorscale": [
             [
              0,
              "#0d0887"
             ],
             [
              0.1111111111111111,
              "#46039f"
             ],
             [
              0.2222222222222222,
              "#7201a8"
             ],
             [
              0.3333333333333333,
              "#9c179e"
             ],
             [
              0.4444444444444444,
              "#bd3786"
             ],
             [
              0.5555555555555556,
              "#d8576b"
             ],
             [
              0.6666666666666666,
              "#ed7953"
             ],
             [
              0.7777777777777778,
              "#fb9f3a"
             ],
             [
              0.8888888888888888,
              "#fdca26"
             ],
             [
              1,
              "#f0f921"
             ]
            ],
            "type": "histogram2d"
           }
          ],
          "histogram2dcontour": [
           {
            "colorbar": {
             "outlinewidth": 0,
             "ticks": ""
            },
            "colorscale": [
             [
              0,
              "#0d0887"
             ],
             [
              0.1111111111111111,
              "#46039f"
             ],
             [
              0.2222222222222222,
              "#7201a8"
             ],
             [
              0.3333333333333333,
              "#9c179e"
             ],
             [
              0.4444444444444444,
              "#bd3786"
             ],
             [
              0.5555555555555556,
              "#d8576b"
             ],
             [
              0.6666666666666666,
              "#ed7953"
             ],
             [
              0.7777777777777778,
              "#fb9f3a"
             ],
             [
              0.8888888888888888,
              "#fdca26"
             ],
             [
              1,
              "#f0f921"
             ]
            ],
            "type": "histogram2dcontour"
           }
          ],
          "mesh3d": [
           {
            "colorbar": {
             "outlinewidth": 0,
             "ticks": ""
            },
            "type": "mesh3d"
           }
          ],
          "parcoords": [
           {
            "line": {
             "colorbar": {
              "outlinewidth": 0,
              "ticks": ""
             }
            },
            "type": "parcoords"
           }
          ],
          "pie": [
           {
            "automargin": true,
            "type": "pie"
           }
          ],
          "scatter": [
           {
            "marker": {
             "colorbar": {
              "outlinewidth": 0,
              "ticks": ""
             }
            },
            "type": "scatter"
           }
          ],
          "scatter3d": [
           {
            "line": {
             "colorbar": {
              "outlinewidth": 0,
              "ticks": ""
             }
            },
            "marker": {
             "colorbar": {
              "outlinewidth": 0,
              "ticks": ""
             }
            },
            "type": "scatter3d"
           }
          ],
          "scattercarpet": [
           {
            "marker": {
             "colorbar": {
              "outlinewidth": 0,
              "ticks": ""
             }
            },
            "type": "scattercarpet"
           }
          ],
          "scattergeo": [
           {
            "marker": {
             "colorbar": {
              "outlinewidth": 0,
              "ticks": ""
             }
            },
            "type": "scattergeo"
           }
          ],
          "scattergl": [
           {
            "marker": {
             "colorbar": {
              "outlinewidth": 0,
              "ticks": ""
             }
            },
            "type": "scattergl"
           }
          ],
          "scattermapbox": [
           {
            "marker": {
             "colorbar": {
              "outlinewidth": 0,
              "ticks": ""
             }
            },
            "type": "scattermapbox"
           }
          ],
          "scatterpolar": [
           {
            "marker": {
             "colorbar": {
              "outlinewidth": 0,
              "ticks": ""
             }
            },
            "type": "scatterpolar"
           }
          ],
          "scatterpolargl": [
           {
            "marker": {
             "colorbar": {
              "outlinewidth": 0,
              "ticks": ""
             }
            },
            "type": "scatterpolargl"
           }
          ],
          "scatterternary": [
           {
            "marker": {
             "colorbar": {
              "outlinewidth": 0,
              "ticks": ""
             }
            },
            "type": "scatterternary"
           }
          ],
          "surface": [
           {
            "colorbar": {
             "outlinewidth": 0,
             "ticks": ""
            },
            "colorscale": [
             [
              0,
              "#0d0887"
             ],
             [
              0.1111111111111111,
              "#46039f"
             ],
             [
              0.2222222222222222,
              "#7201a8"
             ],
             [
              0.3333333333333333,
              "#9c179e"
             ],
             [
              0.4444444444444444,
              "#bd3786"
             ],
             [
              0.5555555555555556,
              "#d8576b"
             ],
             [
              0.6666666666666666,
              "#ed7953"
             ],
             [
              0.7777777777777778,
              "#fb9f3a"
             ],
             [
              0.8888888888888888,
              "#fdca26"
             ],
             [
              1,
              "#f0f921"
             ]
            ],
            "type": "surface"
           }
          ],
          "table": [
           {
            "cells": {
             "fill": {
              "color": "#EBF0F8"
             },
             "line": {
              "color": "white"
             }
            },
            "header": {
             "fill": {
              "color": "#C8D4E3"
             },
             "line": {
              "color": "white"
             }
            },
            "type": "table"
           }
          ]
         },
         "layout": {
          "annotationdefaults": {
           "arrowcolor": "#2a3f5f",
           "arrowhead": 0,
           "arrowwidth": 1
          },
          "coloraxis": {
           "colorbar": {
            "outlinewidth": 0,
            "ticks": ""
           }
          },
          "colorscale": {
           "diverging": [
            [
             0,
             "#8e0152"
            ],
            [
             0.1,
             "#c51b7d"
            ],
            [
             0.2,
             "#de77ae"
            ],
            [
             0.3,
             "#f1b6da"
            ],
            [
             0.4,
             "#fde0ef"
            ],
            [
             0.5,
             "#f7f7f7"
            ],
            [
             0.6,
             "#e6f5d0"
            ],
            [
             0.7,
             "#b8e186"
            ],
            [
             0.8,
             "#7fbc41"
            ],
            [
             0.9,
             "#4d9221"
            ],
            [
             1,
             "#276419"
            ]
           ],
           "sequential": [
            [
             0,
             "#0d0887"
            ],
            [
             0.1111111111111111,
             "#46039f"
            ],
            [
             0.2222222222222222,
             "#7201a8"
            ],
            [
             0.3333333333333333,
             "#9c179e"
            ],
            [
             0.4444444444444444,
             "#bd3786"
            ],
            [
             0.5555555555555556,
             "#d8576b"
            ],
            [
             0.6666666666666666,
             "#ed7953"
            ],
            [
             0.7777777777777778,
             "#fb9f3a"
            ],
            [
             0.8888888888888888,
             "#fdca26"
            ],
            [
             1,
             "#f0f921"
            ]
           ],
           "sequentialminus": [
            [
             0,
             "#0d0887"
            ],
            [
             0.1111111111111111,
             "#46039f"
            ],
            [
             0.2222222222222222,
             "#7201a8"
            ],
            [
             0.3333333333333333,
             "#9c179e"
            ],
            [
             0.4444444444444444,
             "#bd3786"
            ],
            [
             0.5555555555555556,
             "#d8576b"
            ],
            [
             0.6666666666666666,
             "#ed7953"
            ],
            [
             0.7777777777777778,
             "#fb9f3a"
            ],
            [
             0.8888888888888888,
             "#fdca26"
            ],
            [
             1,
             "#f0f921"
            ]
           ]
          },
          "colorway": [
           "#636efa",
           "#EF553B",
           "#00cc96",
           "#ab63fa",
           "#FFA15A",
           "#19d3f3",
           "#FF6692",
           "#B6E880",
           "#FF97FF",
           "#FECB52"
          ],
          "font": {
           "color": "#2a3f5f"
          },
          "geo": {
           "bgcolor": "white",
           "lakecolor": "white",
           "landcolor": "#E5ECF6",
           "showlakes": true,
           "showland": true,
           "subunitcolor": "white"
          },
          "hoverlabel": {
           "align": "left"
          },
          "hovermode": "closest",
          "mapbox": {
           "style": "light"
          },
          "paper_bgcolor": "white",
          "plot_bgcolor": "#E5ECF6",
          "polar": {
           "angularaxis": {
            "gridcolor": "white",
            "linecolor": "white",
            "ticks": ""
           },
           "bgcolor": "#E5ECF6",
           "radialaxis": {
            "gridcolor": "white",
            "linecolor": "white",
            "ticks": ""
           }
          },
          "scene": {
           "xaxis": {
            "backgroundcolor": "#E5ECF6",
            "gridcolor": "white",
            "gridwidth": 2,
            "linecolor": "white",
            "showbackground": true,
            "ticks": "",
            "zerolinecolor": "white"
           },
           "yaxis": {
            "backgroundcolor": "#E5ECF6",
            "gridcolor": "white",
            "gridwidth": 2,
            "linecolor": "white",
            "showbackground": true,
            "ticks": "",
            "zerolinecolor": "white"
           },
           "zaxis": {
            "backgroundcolor": "#E5ECF6",
            "gridcolor": "white",
            "gridwidth": 2,
            "linecolor": "white",
            "showbackground": true,
            "ticks": "",
            "zerolinecolor": "white"
           }
          },
          "shapedefaults": {
           "line": {
            "color": "#2a3f5f"
           }
          },
          "ternary": {
           "aaxis": {
            "gridcolor": "white",
            "linecolor": "white",
            "ticks": ""
           },
           "baxis": {
            "gridcolor": "white",
            "linecolor": "white",
            "ticks": ""
           },
           "bgcolor": "#E5ECF6",
           "caxis": {
            "gridcolor": "white",
            "linecolor": "white",
            "ticks": ""
           }
          },
          "title": {
           "x": 0.05
          },
          "xaxis": {
           "automargin": true,
           "gridcolor": "white",
           "linecolor": "white",
           "ticks": "",
           "title": {
            "standoff": 15
           },
           "zerolinecolor": "white",
           "zerolinewidth": 2
          },
          "yaxis": {
           "automargin": true,
           "gridcolor": "white",
           "linecolor": "white",
           "ticks": "",
           "title": {
            "standoff": 15
           },
           "zerolinecolor": "white",
           "zerolinewidth": 2
          }
         }
        },
        "title": {
         "text": "Normalized edit distance distribution"
        },
        "xaxis": {
         "title": {
          "text": "edit distances"
         }
        },
        "yaxis": {
         "title": {
          "text": "Numbers"
         }
        }
       }
      },
      "text/html": [
       "<div>                            <div id=\"19a5a956-4a12-4748-8d6f-7cf70a7deb47\" class=\"plotly-graph-div\" style=\"height:525px; width:100%;\"></div>            <script type=\"text/javascript\">                require([\"plotly\"], function(Plotly) {                    window.PLOTLYENV=window.PLOTLYENV || {};                                    if (document.getElementById(\"19a5a956-4a12-4748-8d6f-7cf70a7deb47\")) {                    Plotly.newPlot(                        \"19a5a956-4a12-4748-8d6f-7cf70a7deb47\",                        [{\"name\": \"minimap2\", \"type\": \"bar\", \"x\": [\"0.0\", \"0.015\", \"0.02\", \"0.025\", \"0.03\", \"0.035\", \"0.04\", \"0.045\", \"0.05\", \"0.055\", \"0.06\", \"0.065\", \"0.07\", \"0.075\", \"0.08\", \"0.085\", \"0.09\", \"0.095\", \"0.1\", \"0.105\", \"0.11\", \"0.115\", \"0.12\", \"0.125\", \"0.13\", \"0.135\", \"0.14\", \"0.145\", \"0.15\", \"0.155\", \"0.16\", \"0.165\", \"0.17\", \"0.17500000000000002\", \"0.18\", \"0.185\", \"0.19\", \"0.195\", \"0.2\", \"0.20500000000000002\", \"0.21\", \"0.215\", \"0.22\", \"0.225\", \"0.23\", \"0.23500000000000001\", \"0.24\", \"0.245\", \"0.25\", \"0.255\", \"0.26\", \"0.275\"], \"y\": [0, 1, 0, 3, 3, 9, 9, 5, 18, 21, 21, 30, 46, 46, 69, 87, 129, 129, 221, 348, 643, 1090, 2070, 3958, 6394, 9151, 10486, 9294, 6626, 3880, 2124, 1067, 543, 280, 164, 117, 75, 37, 45, 26, 12, 8, 12, 10, 5, 7, 2, 3, 0, 0, 0, 0]}, {\"name\": \"minimap2\", \"type\": \"scatter\", \"x\": [\"0.0\", \"0.015\", \"0.02\", \"0.025\", \"0.03\", \"0.035\", \"0.04\", \"0.045\", \"0.05\", \"0.055\", \"0.06\", \"0.065\", \"0.07\", \"0.075\", \"0.08\", \"0.085\", \"0.09\", \"0.095\", \"0.1\", \"0.105\", \"0.11\", \"0.115\", \"0.12\", \"0.125\", \"0.13\", \"0.135\", \"0.14\", \"0.145\", \"0.15\", \"0.155\", \"0.16\", \"0.165\", \"0.17\", \"0.17500000000000002\", \"0.18\", \"0.185\", \"0.19\", \"0.195\", \"0.2\", \"0.20500000000000002\", \"0.21\", \"0.215\", \"0.22\", \"0.225\", \"0.23\", \"0.23500000000000001\", \"0.24\", \"0.245\", \"0.25\", \"0.255\", \"0.26\", \"0.275\"], \"y\": [0, 1, 0, 3, 3, 9, 9, 5, 18, 21, 21, 30, 46, 46, 69, 87, 129, 129, 221, 348, 643, 1090, 2070, 3958, 6394, 9151, 10486, 9294, 6626, 3880, 2124, 1067, 543, 280, 164, 117, 75, 37, 45, 26, 12, 8, 12, 10, 5, 7, 2, 3, 0, 0, 0, 0]}, {\"name\": \"NGMLR\", \"type\": \"bar\", \"x\": [\"0.0\", \"0.015\", \"0.02\", \"0.025\", \"0.03\", \"0.035\", \"0.04\", \"0.045\", \"0.05\", \"0.055\", \"0.06\", \"0.065\", \"0.07\", \"0.075\", \"0.08\", \"0.085\", \"0.09\", \"0.095\", \"0.1\", \"0.105\", \"0.11\", \"0.115\", \"0.12\", \"0.125\", \"0.13\", \"0.135\", \"0.14\", \"0.145\", \"0.15\", \"0.155\", \"0.16\", \"0.165\", \"0.17\", \"0.17500000000000002\", \"0.18\", \"0.185\", \"0.19\", \"0.195\", \"0.2\", \"0.20500000000000002\", \"0.21\", \"0.215\", \"0.22\", \"0.225\", \"0.23\", \"0.23500000000000001\", \"0.245\", \"0.27\"], \"y\": [0, 1, 0, 3, 3, 10, 9, 6, 21, 23, 24, 39, 47, 53, 70, 87, 137, 145, 248, 378, 690, 1198, 2165, 4139, 6563, 9378, 10751, 9594, 7073, 4935, 1397, 680, 307, 172, 95, 52, 32, 13, 15, 4, 7, 3, 1, 3, 2, 1, 0, 0]}, {\"name\": \"NGMLR\", \"type\": \"scatter\", \"x\": [\"0.0\", \"0.015\", \"0.02\", \"0.025\", \"0.03\", \"0.035\", \"0.04\", \"0.045\", \"0.05\", \"0.055\", \"0.06\", \"0.065\", \"0.07\", \"0.075\", \"0.08\", \"0.085\", \"0.09\", \"0.095\", \"0.1\", \"0.105\", \"0.11\", \"0.115\", \"0.12\", \"0.125\", \"0.13\", \"0.135\", \"0.14\", \"0.145\", \"0.15\", \"0.155\", \"0.16\", \"0.165\", \"0.17\", \"0.17500000000000002\", \"0.18\", \"0.185\", \"0.19\", \"0.195\", \"0.2\", \"0.20500000000000002\", \"0.21\", \"0.215\", \"0.22\", \"0.225\", \"0.23\", \"0.23500000000000001\", \"0.245\", \"0.27\"], \"y\": [0, 1, 0, 3, 3, 10, 9, 6, 21, 23, 24, 39, 47, 53, 70, 87, 137, 145, 248, 378, 690, 1198, 2165, 4139, 6563, 9378, 10751, 9594, 7073, 4935, 1397, 680, 307, 172, 95, 52, 32, 13, 15, 4, 7, 3, 1, 3, 2, 1, 0, 0]}],                        {\"template\": {\"data\": {\"bar\": [{\"error_x\": {\"color\": \"#2a3f5f\"}, \"error_y\": {\"color\": \"#2a3f5f\"}, \"marker\": {\"line\": {\"color\": \"#E5ECF6\", \"width\": 0.5}}, \"type\": \"bar\"}], \"barpolar\": [{\"marker\": {\"line\": {\"color\": \"#E5ECF6\", \"width\": 0.5}}, \"type\": \"barpolar\"}], \"carpet\": [{\"aaxis\": {\"endlinecolor\": \"#2a3f5f\", \"gridcolor\": \"white\", \"linecolor\": \"white\", \"minorgridcolor\": \"white\", \"startlinecolor\": \"#2a3f5f\"}, \"baxis\": {\"endlinecolor\": \"#2a3f5f\", \"gridcolor\": \"white\", \"linecolor\": \"white\", \"minorgridcolor\": \"white\", \"startlinecolor\": \"#2a3f5f\"}, \"type\": \"carpet\"}], \"choropleth\": [{\"colorbar\": {\"outlinewidth\": 0, \"ticks\": \"\"}, \"type\": \"choropleth\"}], \"contour\": [{\"colorbar\": {\"outlinewidth\": 0, \"ticks\": \"\"}, \"colorscale\": [[0.0, \"#0d0887\"], [0.1111111111111111, \"#46039f\"], [0.2222222222222222, \"#7201a8\"], [0.3333333333333333, \"#9c179e\"], [0.4444444444444444, \"#bd3786\"], [0.5555555555555556, \"#d8576b\"], [0.6666666666666666, \"#ed7953\"], [0.7777777777777778, \"#fb9f3a\"], [0.8888888888888888, \"#fdca26\"], [1.0, \"#f0f921\"]], \"type\": \"contour\"}], \"contourcarpet\": [{\"colorbar\": {\"outlinewidth\": 0, \"ticks\": \"\"}, \"type\": \"contourcarpet\"}], \"heatmap\": [{\"colorbar\": {\"outlinewidth\": 0, \"ticks\": \"\"}, \"colorscale\": [[0.0, \"#0d0887\"], [0.1111111111111111, \"#46039f\"], [0.2222222222222222, \"#7201a8\"], [0.3333333333333333, \"#9c179e\"], [0.4444444444444444, \"#bd3786\"], [0.5555555555555556, \"#d8576b\"], [0.6666666666666666, \"#ed7953\"], [0.7777777777777778, \"#fb9f3a\"], [0.8888888888888888, \"#fdca26\"], [1.0, \"#f0f921\"]], \"type\": \"heatmap\"}], \"heatmapgl\": [{\"colorbar\": {\"outlinewidth\": 0, \"ticks\": \"\"}, \"colorscale\": [[0.0, \"#0d0887\"], [0.1111111111111111, \"#46039f\"], [0.2222222222222222, \"#7201a8\"], [0.3333333333333333, \"#9c179e\"], [0.4444444444444444, \"#bd3786\"], [0.5555555555555556, \"#d8576b\"], [0.6666666666666666, \"#ed7953\"], [0.7777777777777778, \"#fb9f3a\"], [0.8888888888888888, \"#fdca26\"], [1.0, \"#f0f921\"]], \"type\": \"heatmapgl\"}], \"histogram\": [{\"marker\": {\"colorbar\": {\"outlinewidth\": 0, \"ticks\": \"\"}}, \"type\": \"histogram\"}], \"histogram2d\": [{\"colorbar\": {\"outlinewidth\": 0, \"ticks\": \"\"}, \"colorscale\": [[0.0, \"#0d0887\"], [0.1111111111111111, \"#46039f\"], [0.2222222222222222, \"#7201a8\"], [0.3333333333333333, \"#9c179e\"], [0.4444444444444444, \"#bd3786\"], [0.5555555555555556, \"#d8576b\"], [0.6666666666666666, \"#ed7953\"], [0.7777777777777778, \"#fb9f3a\"], [0.8888888888888888, \"#fdca26\"], [1.0, \"#f0f921\"]], \"type\": \"histogram2d\"}], \"histogram2dcontour\": [{\"colorbar\": {\"outlinewidth\": 0, \"ticks\": \"\"}, \"colorscale\": [[0.0, \"#0d0887\"], [0.1111111111111111, \"#46039f\"], [0.2222222222222222, \"#7201a8\"], [0.3333333333333333, \"#9c179e\"], [0.4444444444444444, \"#bd3786\"], [0.5555555555555556, \"#d8576b\"], [0.6666666666666666, \"#ed7953\"], [0.7777777777777778, \"#fb9f3a\"], [0.8888888888888888, \"#fdca26\"], [1.0, \"#f0f921\"]], \"type\": \"histogram2dcontour\"}], \"mesh3d\": [{\"colorbar\": {\"outlinewidth\": 0, \"ticks\": \"\"}, \"type\": \"mesh3d\"}], \"parcoords\": [{\"line\": {\"colorbar\": {\"outlinewidth\": 0, \"ticks\": \"\"}}, \"type\": \"parcoords\"}], \"pie\": [{\"automargin\": true, \"type\": \"pie\"}], \"scatter\": [{\"marker\": {\"colorbar\": {\"outlinewidth\": 0, \"ticks\": \"\"}}, \"type\": \"scatter\"}], \"scatter3d\": [{\"line\": {\"colorbar\": {\"outlinewidth\": 0, \"ticks\": \"\"}}, \"marker\": {\"colorbar\": {\"outlinewidth\": 0, \"ticks\": \"\"}}, \"type\": \"scatter3d\"}], \"scattercarpet\": [{\"marker\": {\"colorbar\": {\"outlinewidth\": 0, \"ticks\": \"\"}}, \"type\": \"scattercarpet\"}], \"scattergeo\": [{\"marker\": {\"colorbar\": {\"outlinewidth\": 0, \"ticks\": \"\"}}, \"type\": \"scattergeo\"}], \"scattergl\": [{\"marker\": {\"colorbar\": {\"outlinewidth\": 0, \"ticks\": \"\"}}, \"type\": \"scattergl\"}], \"scattermapbox\": [{\"marker\": {\"colorbar\": {\"outlinewidth\": 0, \"ticks\": \"\"}}, \"type\": \"scattermapbox\"}], \"scatterpolar\": [{\"marker\": {\"colorbar\": {\"outlinewidth\": 0, \"ticks\": \"\"}}, \"type\": \"scatterpolar\"}], \"scatterpolargl\": [{\"marker\": {\"colorbar\": {\"outlinewidth\": 0, \"ticks\": \"\"}}, \"type\": \"scatterpolargl\"}], \"scatterternary\": [{\"marker\": {\"colorbar\": {\"outlinewidth\": 0, \"ticks\": \"\"}}, \"type\": \"scatterternary\"}], \"surface\": [{\"colorbar\": {\"outlinewidth\": 0, \"ticks\": \"\"}, \"colorscale\": [[0.0, \"#0d0887\"], [0.1111111111111111, \"#46039f\"], [0.2222222222222222, \"#7201a8\"], [0.3333333333333333, \"#9c179e\"], [0.4444444444444444, \"#bd3786\"], [0.5555555555555556, \"#d8576b\"], [0.6666666666666666, \"#ed7953\"], [0.7777777777777778, \"#fb9f3a\"], [0.8888888888888888, \"#fdca26\"], [1.0, \"#f0f921\"]], \"type\": \"surface\"}], \"table\": [{\"cells\": {\"fill\": {\"color\": \"#EBF0F8\"}, \"line\": {\"color\": \"white\"}}, \"header\": {\"fill\": {\"color\": \"#C8D4E3\"}, \"line\": {\"color\": \"white\"}}, \"type\": \"table\"}]}, \"layout\": {\"annotationdefaults\": {\"arrowcolor\": \"#2a3f5f\", \"arrowhead\": 0, \"arrowwidth\": 1}, \"coloraxis\": {\"colorbar\": {\"outlinewidth\": 0, \"ticks\": \"\"}}, \"colorscale\": {\"diverging\": [[0, \"#8e0152\"], [0.1, \"#c51b7d\"], [0.2, \"#de77ae\"], [0.3, \"#f1b6da\"], [0.4, \"#fde0ef\"], [0.5, \"#f7f7f7\"], [0.6, \"#e6f5d0\"], [0.7, \"#b8e186\"], [0.8, \"#7fbc41\"], [0.9, \"#4d9221\"], [1, \"#276419\"]], \"sequential\": [[0.0, \"#0d0887\"], [0.1111111111111111, \"#46039f\"], [0.2222222222222222, \"#7201a8\"], [0.3333333333333333, \"#9c179e\"], [0.4444444444444444, \"#bd3786\"], [0.5555555555555556, \"#d8576b\"], [0.6666666666666666, \"#ed7953\"], [0.7777777777777778, \"#fb9f3a\"], [0.8888888888888888, \"#fdca26\"], [1.0, \"#f0f921\"]], \"sequentialminus\": [[0.0, \"#0d0887\"], [0.1111111111111111, \"#46039f\"], [0.2222222222222222, \"#7201a8\"], [0.3333333333333333, \"#9c179e\"], [0.4444444444444444, \"#bd3786\"], [0.5555555555555556, \"#d8576b\"], [0.6666666666666666, \"#ed7953\"], [0.7777777777777778, \"#fb9f3a\"], [0.8888888888888888, \"#fdca26\"], [1.0, \"#f0f921\"]]}, \"colorway\": [\"#636efa\", \"#EF553B\", \"#00cc96\", \"#ab63fa\", \"#FFA15A\", \"#19d3f3\", \"#FF6692\", \"#B6E880\", \"#FF97FF\", \"#FECB52\"], \"font\": {\"color\": \"#2a3f5f\"}, \"geo\": {\"bgcolor\": \"white\", \"lakecolor\": \"white\", \"landcolor\": \"#E5ECF6\", \"showlakes\": true, \"showland\": true, \"subunitcolor\": \"white\"}, \"hoverlabel\": {\"align\": \"left\"}, \"hovermode\": \"closest\", \"mapbox\": {\"style\": \"light\"}, \"paper_bgcolor\": \"white\", \"plot_bgcolor\": \"#E5ECF6\", \"polar\": {\"angularaxis\": {\"gridcolor\": \"white\", \"linecolor\": \"white\", \"ticks\": \"\"}, \"bgcolor\": \"#E5ECF6\", \"radialaxis\": {\"gridcolor\": \"white\", \"linecolor\": \"white\", \"ticks\": \"\"}}, \"scene\": {\"xaxis\": {\"backgroundcolor\": \"#E5ECF6\", \"gridcolor\": \"white\", \"gridwidth\": 2, \"linecolor\": \"white\", \"showbackground\": true, \"ticks\": \"\", \"zerolinecolor\": \"white\"}, \"yaxis\": {\"backgroundcolor\": \"#E5ECF6\", \"gridcolor\": \"white\", \"gridwidth\": 2, \"linecolor\": \"white\", \"showbackground\": true, \"ticks\": \"\", \"zerolinecolor\": \"white\"}, \"zaxis\": {\"backgroundcolor\": \"#E5ECF6\", \"gridcolor\": \"white\", \"gridwidth\": 2, \"linecolor\": \"white\", \"showbackground\": true, \"ticks\": \"\", \"zerolinecolor\": \"white\"}}, \"shapedefaults\": {\"line\": {\"color\": \"#2a3f5f\"}}, \"ternary\": {\"aaxis\": {\"gridcolor\": \"white\", \"linecolor\": \"white\", \"ticks\": \"\"}, \"baxis\": {\"gridcolor\": \"white\", \"linecolor\": \"white\", \"ticks\": \"\"}, \"bgcolor\": \"#E5ECF6\", \"caxis\": {\"gridcolor\": \"white\", \"linecolor\": \"white\", \"ticks\": \"\"}}, \"title\": {\"x\": 0.05}, \"xaxis\": {\"automargin\": true, \"gridcolor\": \"white\", \"linecolor\": \"white\", \"ticks\": \"\", \"title\": {\"standoff\": 15}, \"zerolinecolor\": \"white\", \"zerolinewidth\": 2}, \"yaxis\": {\"automargin\": true, \"gridcolor\": \"white\", \"linecolor\": \"white\", \"ticks\": \"\", \"title\": {\"standoff\": 15}, \"zerolinecolor\": \"white\", \"zerolinewidth\": 2}}}, \"title\": {\"text\": \"Normalized edit distance distribution\"}, \"xaxis\": {\"title\": {\"text\": \"edit distances\"}}, \"yaxis\": {\"title\": {\"text\": \"Numbers\"}}},                        {\"responsive\": true}                    ).then(function(){\n",
       "                            \n",
       "var gd = document.getElementById('19a5a956-4a12-4748-8d6f-7cf70a7deb47');\n",
       "var x = new MutationObserver(function (mutations, observer) {{\n",
       "        var display = window.getComputedStyle(gd).display;\n",
       "        if (!display || display === 'none') {{\n",
       "            console.log([gd, 'removed!']);\n",
       "            Plotly.purge(gd);\n",
       "            observer.disconnect();\n",
       "        }}\n",
       "}});\n",
       "\n",
       "// Listen for the removal of the full notebook cells\n",
       "var notebookContainer = gd.closest('#notebook-container');\n",
       "if (notebookContainer) {{\n",
       "    x.observe(notebookContainer, {childList: true});\n",
       "}}\n",
       "\n",
       "// Listen for the clearing of the current output cell\n",
       "var outputEl = gd.closest('.output');\n",
       "if (outputEl) {{\n",
       "    x.observe(outputEl, {childList: true});\n",
       "}}\n",
       "\n",
       "                        })                };                });            </script>        </div>"
      ]
     },
     "metadata": {},
     "output_type": "display_data"
    }
   ],
   "source": [
    "edit_distance_compare(final_edit_distance, minimap2_full_edit_distance, raw_edit_distance)"
   ]
  },
  {
   "cell_type": "code",
   "execution_count": null,
   "metadata": {},
   "outputs": [],
   "source": []
  }
 ],
 "metadata": {
  "kernelspec": {
   "display_name": "Python 3.7.3 64-bit ('base': conda)",
   "language": "python",
   "name": "python37364bitbasecondaf3ea22a62fb84537beb9444ae65a2b66"
  },
  "language_info": {
   "codemirror_mode": {
    "name": "ipython",
    "version": 3
   },
   "file_extension": ".py",
   "mimetype": "text/x-python",
   "name": "python",
   "nbconvert_exporter": "python",
   "pygments_lexer": "ipython3",
   "version": "3.8.6"
  }
 },
 "nbformat": 4,
 "nbformat_minor": 4
}
