{
 "cells": [
  {
   "cell_type": "code",
   "execution_count": 115,
   "metadata": {},
   "outputs": [],
   "source": [
    "import os\n",
    "import sys\n",
    "import subprocess\n",
    "import argparse\n",
    "import logging\n",
    "import plotly.graph_objects as go\n",
    "import pysam\n",
    "from tqdm import tqdm\n",
    "import numpy as np"
   ]
  },
  {
   "cell_type": "code",
   "execution_count": 116,
   "metadata": {},
   "outputs": [],
   "source": [
    "logging.basicConfig(level=logging.INFO,\n",
    "                    format='%(asctime)s - %(name)s - %(levelname)s - %(message)s')\n",
    "logger = logging.getLogger(__name__)\n"
   ]
  },
  {
   "cell_type": "markdown",
   "metadata": {},
   "source": [
    "work_dir is the directory of working folder"
   ]
  },
  {
   "cell_type": "code",
   "execution_count": 117,
   "metadata": {},
   "outputs": [],
   "source": [
    "with open(\"config\", \"r\") as config_f:\n",
    "    parameters = config_f.readlines()"
   ]
  },
  {
   "cell_type": "code",
   "execution_count": 118,
   "metadata": {},
   "outputs": [],
   "source": [
    "threads = int(parameters[0])\n",
    "percentile = int(parameters[1])\n",
    "work_dir = parameters[2][:-1]\n",
    "ngmlr_above_bam = parameters[3][:-1]\n",
    "ngmlr_above_sam = parameters[4][:-1]\n",
    "ngmlr_above_edit_distance = parameters[5][:-1]\n",
    "minimap2_above_bam = parameters[6][:-1]\n",
    "minimap2_above_sam = parameters[7][:-1]\n",
    "minimap2_above_edit_distance = parameters[8][:-1]\n",
    "minimap2_full_bam = parameters[9][:-1]\n",
    "minimap2_full_edit_distance = parameters[10][:-1]\n",
    "final_bam = parameters[11][:-1]\n",
    "final_sam = parameters[12][:-1]\n",
    "final_edit_distance = parameters[13][:-1]\n",
    "raw_edit_distance = bool(int(parameters[14]))"
   ]
  },
  {
   "cell_type": "code",
   "execution_count": 119,
   "metadata": {},
   "outputs": [],
   "source": [
    "def get_distance_from_file(distance_file):\n",
    "    with open(distance_file, \"r\") as distance_f:\n",
    "        distance = distance_f.readlines()\n",
    "    distance_list = []\n",
    "    for dist in distance:\n",
    "        distance_list.append(float(dist[:-1].split(\":\")[2]))\n",
    "    return distance_list"
   ]
  },
  {
   "cell_type": "code",
   "execution_count": 120,
   "metadata": {},
   "outputs": [],
   "source": [
    "def edit_distance_compare(ngmlr_distance_file, minimap2_distance_file, raw_edit_distance, hybrid):\n",
    "#     ngmlr_distance.sort()\n",
    "#     minimap2_distance.sort()\n",
    "    fig = go.Figure()\n",
    "\n",
    "    ngmlr_distance = get_distance_from_file(ngmlr_distance_file)\n",
    "    minimap2_distance = get_distance_from_file(minimap2_distance_file)\n",
    "    lendic_minimap2 = {}\n",
    "    lencnts_minimap2=[]\n",
    "    if raw_edit_distance:\n",
    "        for i in minimap2_distance:\n",
    "            temploc = int(i/100)*100\n",
    "            if temploc not in lendic_minimap2:\n",
    "                lendic_minimap2.update({temploc:0})\n",
    "            else:\n",
    "                lendic_minimap2[temploc] += 1\n",
    "        lens_minimap2 =  [str(i) for i in np.array(list(sorted(lendic_minimap2.keys())))]\n",
    "        for i in sorted(lendic_minimap2.keys()):\n",
    "            lencnts_minimap2.append(lendic_minimap2[i])\n",
    "\n",
    "\n",
    "        lendic_ngmlr = {}\n",
    "        lencnts_ngmlr = []\n",
    "        for i in ngmlr_distance:\n",
    "            temploc = int(i/100)*100\n",
    "            if temploc not in lendic_ngmlr:\n",
    "                lendic_ngmlr.update({temploc:0})\n",
    "            else:\n",
    "                lendic_ngmlr[temploc] += 1\n",
    "\n",
    "        lens_ngmlr =  [str(i) for i in np.array(list(sorted(lendic_ngmlr.keys())))]\n",
    "        for i in sorted(lendic_ngmlr.keys()):\n",
    "            lencnts_ngmlr.append(lendic_ngmlr[i])\n",
    "        fig.update_layout(\n",
    "            title=\"Raw edit distance distribution\",\n",
    "            xaxis_title=\"edit distances\",\n",
    "            yaxis_title=\"Numbers\",\n",
    "            )\n",
    "    else:\n",
    "        for i in minimap2_distance:\n",
    "            temploc = int(i/0.005)*0.005\n",
    "            if temploc not in lendic_minimap2:\n",
    "                lendic_minimap2.update({temploc:0})\n",
    "            else:\n",
    "                lendic_minimap2[temploc] += 1\n",
    "        lens_minimap2 =  [str(i) for i in np.array(list(sorted(lendic_minimap2.keys())))]\n",
    "        for i in sorted(lendic_minimap2.keys()):\n",
    "            lencnts_minimap2.append(lendic_minimap2[i])\n",
    "\n",
    "        lendic_ngmlr = {}\n",
    "        lencnts_ngmlr = []\n",
    "        for i in ngmlr_distance:\n",
    "            temploc = int(i/0.005)*0.005\n",
    "            if temploc not in lendic_ngmlr:\n",
    "                lendic_ngmlr.update({temploc:0})\n",
    "            else:\n",
    "                lendic_ngmlr[temploc] += 1\n",
    "\n",
    "        lens_ngmlr =  [str(i) for i in np.array(list(sorted(lendic_ngmlr.keys())))]\n",
    "        for i in sorted(lendic_ngmlr.keys()):\n",
    "            lencnts_ngmlr.append(lendic_ngmlr[i])\n",
    "        fig.update_layout(\n",
    "            title=\"Normalized edit distance distribution\",\n",
    "            xaxis_title=\"edit distances\",\n",
    "            yaxis_title=\"Numbers\",\n",
    "            )\n",
    "    fig.add_trace(go.Bar(x= lens_minimap2, y=lencnts_minimap2,  name='minimap2'))\n",
    "    fig.add_trace(go.Scatter(x= lens_minimap2, y=lencnts_minimap2,  name='minimap2'))\n",
    "    if hybrid:\n",
    "        fig.add_trace(go.Bar(x= lens_ngmlr, y=lencnts_ngmlr, name='hybrid_NGMLR'))\n",
    "        fig.add_trace(go.Scatter(x= lens_ngmlr, y=lencnts_ngmlr, name='hybrid_NGMLR'))\n",
    "    else:\n",
    "        fig.add_trace(go.Bar(x= lens_ngmlr, y=lencnts_ngmlr, name='NGMLR'))\n",
    "        fig.add_trace(go.Scatter(x= lens_ngmlr, y=lencnts_ngmlr, name='NGMLR'))\n",
    "\n",
    "    fig.show()"
   ]
  },
  {
   "cell_type": "code",
   "execution_count": 121,
   "metadata": {},
   "outputs": [],
   "source": [
    "def bam_to_sam(input_bam, output_sam):\n",
    "    transform_cmd = f\"samtools view -h -@ {threads} {input_bam} -o {output_sam}\"\n",
    "    logger.info(transform_cmd)\n",
    "    os.system(transform_cmd)"
   ]
  },
  {
   "cell_type": "code",
   "execution_count": 122,
   "metadata": {},
   "outputs": [],
   "source": [
    "def generate_distance_file(input_sam, output_txt, raw_edit_distance):\n",
    "    if raw_edit_distance:\n",
    "        os.system(f\"grep -o -E \\\"NM:i:[0-9]+\\\" {input_sam} > {output_txt}\")\n",
    "    else:\n",
    "        samfile = pysam.AlignmentFile(input_sam, \"r\")\n",
    "        with open(output_txt, \"w\") as out_f:\n",
    "            for read in tqdm(samfile.fetch()):\n",
    "                tags = dict(read.tags)\n",
    "                if \"NM\" in tags:\n",
    "                    NM_distance = int(tags[\"NM\"])\n",
    "                    normalized_edit_distance = float(\n",
    "                        NM_distance)/read.query_alignment_length\n",
    "                    out_f.writelines(f\"NM:i:{normalized_edit_distance}\\n\")\n",
    "    return output_txt"
   ]
  },
  {
   "cell_type": "code",
   "execution_count": 123,
   "metadata": {},
   "outputs": [
    {
     "name": "stderr",
     "output_type": "stream",
     "text": [
      "2020-10-20 14:12:20,868 - __main__ - INFO - samtools view -h -@ 60 ../Saccharomyces_cerevisiae/work/ngmlr_above85.bam -o ../Saccharomyces_cerevisiae/work/ngmlr_above85.sam\n"
     ]
    }
   ],
   "source": [
    "bam_to_sam(ngmlr_above_bam, ngmlr_above_sam)"
   ]
  },
  {
   "cell_type": "code",
   "execution_count": 124,
   "metadata": {},
   "outputs": [
    {
     "name": "stderr",
     "output_type": "stream",
     "text": [
      "2020-10-20 14:12:21,659 - __main__ - INFO - samtools view -h -@ 60 ../Saccharomyces_cerevisiae/work/minimap2_above85.bam -o ../Saccharomyces_cerevisiae/work/minimap2_above85.sam\n"
     ]
    }
   ],
   "source": [
    "bam_to_sam(minimap2_above_bam, minimap2_above_sam)"
   ]
  },
  {
   "cell_type": "code",
   "execution_count": 125,
   "metadata": {},
   "outputs": [
    {
     "name": "stderr",
     "output_type": "stream",
     "text": [
      "10554it [00:00, 44495.21it/s]\n"
     ]
    },
    {
     "data": {
      "text/plain": [
       "'../Saccharomyces_cerevisiae/work/ngmlr_above85_distance.txt'"
      ]
     },
     "execution_count": 125,
     "metadata": {},
     "output_type": "execute_result"
    }
   ],
   "source": [
    "generate_distance_file(ngmlr_above_sam, ngmlr_above_edit_distance, raw_edit_distance)"
   ]
  },
  {
   "cell_type": "code",
   "execution_count": 126,
   "metadata": {},
   "outputs": [
    {
     "name": "stderr",
     "output_type": "stream",
     "text": [
      "10675it [00:00, 50526.71it/s]\n"
     ]
    },
    {
     "data": {
      "text/plain": [
       "'../Saccharomyces_cerevisiae/work/minimap2_above85_distance.txt'"
      ]
     },
     "execution_count": 126,
     "metadata": {},
     "output_type": "execute_result"
    }
   ],
   "source": [
    "generate_distance_file(minimap2_above_sam, minimap2_above_edit_distance, raw_edit_distance)"
   ]
  },
  {
   "cell_type": "code",
   "execution_count": 127,
   "metadata": {},
   "outputs": [
    {
     "data": {
      "application/vnd.plotly.v1+json": {
       "config": {
        "plotlyServerURL": "https://plot.ly"
       },
       "data": [
        {
         "name": "minimap2",
         "type": "bar",
         "x": [
          "0.17",
          "0.17500000000000002",
          "0.18",
          "0.185",
          "0.19",
          "0.195",
          "0.2",
          "0.20500000000000002",
          "0.21",
          "0.215",
          "0.22",
          "0.225",
          "0.23",
          "0.23500000000000001",
          "0.24",
          "0.245",
          "0.25",
          "0.255",
          "0.26",
          "0.265",
          "0.27",
          "0.275",
          "0.28",
          "0.28500000000000003",
          "0.29",
          "0.295",
          "0.3",
          "0.305",
          "0.31",
          "0.32",
          "0.33",
          "0.34",
          "0.34500000000000003",
          "0.35000000000000003",
          "0.38",
          "0.435",
          "0.44",
          "0.58"
         ],
         "y": [
          3908,
          2543,
          1414,
          815,
          494,
          344,
          208,
          205,
          141,
          131,
          67,
          82,
          60,
          39,
          33,
          30,
          34,
          21,
          14,
          9,
          11,
          6,
          3,
          6,
          2,
          2,
          7,
          2,
          3,
          0,
          1,
          0,
          0,
          0,
          1,
          1,
          0,
          0
         ]
        },
        {
         "name": "minimap2",
         "type": "scatter",
         "x": [
          "0.17",
          "0.17500000000000002",
          "0.18",
          "0.185",
          "0.19",
          "0.195",
          "0.2",
          "0.20500000000000002",
          "0.21",
          "0.215",
          "0.22",
          "0.225",
          "0.23",
          "0.23500000000000001",
          "0.24",
          "0.245",
          "0.25",
          "0.255",
          "0.26",
          "0.265",
          "0.27",
          "0.275",
          "0.28",
          "0.28500000000000003",
          "0.29",
          "0.295",
          "0.3",
          "0.305",
          "0.31",
          "0.32",
          "0.33",
          "0.34",
          "0.34500000000000003",
          "0.35000000000000003",
          "0.38",
          "0.435",
          "0.44",
          "0.58"
         ],
         "y": [
          3908,
          2543,
          1414,
          815,
          494,
          344,
          208,
          205,
          141,
          131,
          67,
          82,
          60,
          39,
          33,
          30,
          34,
          21,
          14,
          9,
          11,
          6,
          3,
          6,
          2,
          2,
          7,
          2,
          3,
          0,
          1,
          0,
          0,
          0,
          1,
          1,
          0,
          0
         ]
        },
        {
         "name": "NGMLR",
         "type": "bar",
         "x": [
          "0.015",
          "0.03",
          "0.035",
          "0.04",
          "0.045",
          "0.05",
          "0.055",
          "0.06",
          "0.065",
          "0.07",
          "0.075",
          "0.08",
          "0.085",
          "0.09",
          "0.095",
          "0.1",
          "0.105",
          "0.11",
          "0.115",
          "0.12",
          "0.125",
          "0.13",
          "0.135",
          "0.14",
          "0.145",
          "0.15",
          "0.155",
          "0.16",
          "0.165",
          "0.17",
          "0.17500000000000002",
          "0.18",
          "0.185",
          "0.19",
          "0.195",
          "0.2",
          "0.20500000000000002",
          "0.21",
          "0.215",
          "0.22",
          "0.225",
          "0.23",
          "0.23500000000000001",
          "0.24",
          "0.245",
          "0.25",
          "0.27",
          "0.275",
          "0.29"
         ],
         "y": [
          0,
          0,
          0,
          1,
          1,
          0,
          1,
          2,
          0,
          4,
          2,
          11,
          5,
          9,
          14,
          24,
          33,
          30,
          65,
          55,
          76,
          85,
          120,
          149,
          161,
          235,
          242,
          288,
          1940,
          3008,
          1528,
          753,
          408,
          208,
          132,
          85,
          55,
          32,
          25,
          9,
          12,
          10,
          6,
          2,
          0,
          1,
          0,
          0,
          0
         ]
        },
        {
         "name": "NGMLR",
         "type": "scatter",
         "x": [
          "0.015",
          "0.03",
          "0.035",
          "0.04",
          "0.045",
          "0.05",
          "0.055",
          "0.06",
          "0.065",
          "0.07",
          "0.075",
          "0.08",
          "0.085",
          "0.09",
          "0.095",
          "0.1",
          "0.105",
          "0.11",
          "0.115",
          "0.12",
          "0.125",
          "0.13",
          "0.135",
          "0.14",
          "0.145",
          "0.15",
          "0.155",
          "0.16",
          "0.165",
          "0.17",
          "0.17500000000000002",
          "0.18",
          "0.185",
          "0.19",
          "0.195",
          "0.2",
          "0.20500000000000002",
          "0.21",
          "0.215",
          "0.22",
          "0.225",
          "0.23",
          "0.23500000000000001",
          "0.24",
          "0.245",
          "0.25",
          "0.27",
          "0.275",
          "0.29"
         ],
         "y": [
          0,
          0,
          0,
          1,
          1,
          0,
          1,
          2,
          0,
          4,
          2,
          11,
          5,
          9,
          14,
          24,
          33,
          30,
          65,
          55,
          76,
          85,
          120,
          149,
          161,
          235,
          242,
          288,
          1940,
          3008,
          1528,
          753,
          408,
          208,
          132,
          85,
          55,
          32,
          25,
          9,
          12,
          10,
          6,
          2,
          0,
          1,
          0,
          0,
          0
         ]
        }
       ],
       "layout": {
        "template": {
         "data": {
          "bar": [
           {
            "error_x": {
             "color": "#2a3f5f"
            },
            "error_y": {
             "color": "#2a3f5f"
            },
            "marker": {
             "line": {
              "color": "#E5ECF6",
              "width": 0.5
             }
            },
            "type": "bar"
           }
          ],
          "barpolar": [
           {
            "marker": {
             "line": {
              "color": "#E5ECF6",
              "width": 0.5
             }
            },
            "type": "barpolar"
           }
          ],
          "carpet": [
           {
            "aaxis": {
             "endlinecolor": "#2a3f5f",
             "gridcolor": "white",
             "linecolor": "white",
             "minorgridcolor": "white",
             "startlinecolor": "#2a3f5f"
            },
            "baxis": {
             "endlinecolor": "#2a3f5f",
             "gridcolor": "white",
             "linecolor": "white",
             "minorgridcolor": "white",
             "startlinecolor": "#2a3f5f"
            },
            "type": "carpet"
           }
          ],
          "choropleth": [
           {
            "colorbar": {
             "outlinewidth": 0,
             "ticks": ""
            },
            "type": "choropleth"
           }
          ],
          "contour": [
           {
            "colorbar": {
             "outlinewidth": 0,
             "ticks": ""
            },
            "colorscale": [
             [
              0,
              "#0d0887"
             ],
             [
              0.1111111111111111,
              "#46039f"
             ],
             [
              0.2222222222222222,
              "#7201a8"
             ],
             [
              0.3333333333333333,
              "#9c179e"
             ],
             [
              0.4444444444444444,
              "#bd3786"
             ],
             [
              0.5555555555555556,
              "#d8576b"
             ],
             [
              0.6666666666666666,
              "#ed7953"
             ],
             [
              0.7777777777777778,
              "#fb9f3a"
             ],
             [
              0.8888888888888888,
              "#fdca26"
             ],
             [
              1,
              "#f0f921"
             ]
            ],
            "type": "contour"
           }
          ],
          "contourcarpet": [
           {
            "colorbar": {
             "outlinewidth": 0,
             "ticks": ""
            },
            "type": "contourcarpet"
           }
          ],
          "heatmap": [
           {
            "colorbar": {
             "outlinewidth": 0,
             "ticks": ""
            },
            "colorscale": [
             [
              0,
              "#0d0887"
             ],
             [
              0.1111111111111111,
              "#46039f"
             ],
             [
              0.2222222222222222,
              "#7201a8"
             ],
             [
              0.3333333333333333,
              "#9c179e"
             ],
             [
              0.4444444444444444,
              "#bd3786"
             ],
             [
              0.5555555555555556,
              "#d8576b"
             ],
             [
              0.6666666666666666,
              "#ed7953"
             ],
             [
              0.7777777777777778,
              "#fb9f3a"
             ],
             [
              0.8888888888888888,
              "#fdca26"
             ],
             [
              1,
              "#f0f921"
             ]
            ],
            "type": "heatmap"
           }
          ],
          "heatmapgl": [
           {
            "colorbar": {
             "outlinewidth": 0,
             "ticks": ""
            },
            "colorscale": [
             [
              0,
              "#0d0887"
             ],
             [
              0.1111111111111111,
              "#46039f"
             ],
             [
              0.2222222222222222,
              "#7201a8"
             ],
             [
              0.3333333333333333,
              "#9c179e"
             ],
             [
              0.4444444444444444,
              "#bd3786"
             ],
             [
              0.5555555555555556,
              "#d8576b"
             ],
             [
              0.6666666666666666,
              "#ed7953"
             ],
             [
              0.7777777777777778,
              "#fb9f3a"
             ],
             [
              0.8888888888888888,
              "#fdca26"
             ],
             [
              1,
              "#f0f921"
             ]
            ],
            "type": "heatmapgl"
           }
          ],
          "histogram": [
           {
            "marker": {
             "colorbar": {
              "outlinewidth": 0,
              "ticks": ""
             }
            },
            "type": "histogram"
           }
          ],
          "histogram2d": [
           {
            "colorbar": {
             "outlinewidth": 0,
             "ticks": ""
            },
            "colorscale": [
             [
              0,
              "#0d0887"
             ],
             [
              0.1111111111111111,
              "#46039f"
             ],
             [
              0.2222222222222222,
              "#7201a8"
             ],
             [
              0.3333333333333333,
              "#9c179e"
             ],
             [
              0.4444444444444444,
              "#bd3786"
             ],
             [
              0.5555555555555556,
              "#d8576b"
             ],
             [
              0.6666666666666666,
              "#ed7953"
             ],
             [
              0.7777777777777778,
              "#fb9f3a"
             ],
             [
              0.8888888888888888,
              "#fdca26"
             ],
             [
              1,
              "#f0f921"
             ]
            ],
            "type": "histogram2d"
           }
          ],
          "histogram2dcontour": [
           {
            "colorbar": {
             "outlinewidth": 0,
             "ticks": ""
            },
            "colorscale": [
             [
              0,
              "#0d0887"
             ],
             [
              0.1111111111111111,
              "#46039f"
             ],
             [
              0.2222222222222222,
              "#7201a8"
             ],
             [
              0.3333333333333333,
              "#9c179e"
             ],
             [
              0.4444444444444444,
              "#bd3786"
             ],
             [
              0.5555555555555556,
              "#d8576b"
             ],
             [
              0.6666666666666666,
              "#ed7953"
             ],
             [
              0.7777777777777778,
              "#fb9f3a"
             ],
             [
              0.8888888888888888,
              "#fdca26"
             ],
             [
              1,
              "#f0f921"
             ]
            ],
            "type": "histogram2dcontour"
           }
          ],
          "mesh3d": [
           {
            "colorbar": {
             "outlinewidth": 0,
             "ticks": ""
            },
            "type": "mesh3d"
           }
          ],
          "parcoords": [
           {
            "line": {
             "colorbar": {
              "outlinewidth": 0,
              "ticks": ""
             }
            },
            "type": "parcoords"
           }
          ],
          "pie": [
           {
            "automargin": true,
            "type": "pie"
           }
          ],
          "scatter": [
           {
            "marker": {
             "colorbar": {
              "outlinewidth": 0,
              "ticks": ""
             }
            },
            "type": "scatter"
           }
          ],
          "scatter3d": [
           {
            "line": {
             "colorbar": {
              "outlinewidth": 0,
              "ticks": ""
             }
            },
            "marker": {
             "colorbar": {
              "outlinewidth": 0,
              "ticks": ""
             }
            },
            "type": "scatter3d"
           }
          ],
          "scattercarpet": [
           {
            "marker": {
             "colorbar": {
              "outlinewidth": 0,
              "ticks": ""
             }
            },
            "type": "scattercarpet"
           }
          ],
          "scattergeo": [
           {
            "marker": {
             "colorbar": {
              "outlinewidth": 0,
              "ticks": ""
             }
            },
            "type": "scattergeo"
           }
          ],
          "scattergl": [
           {
            "marker": {
             "colorbar": {
              "outlinewidth": 0,
              "ticks": ""
             }
            },
            "type": "scattergl"
           }
          ],
          "scattermapbox": [
           {
            "marker": {
             "colorbar": {
              "outlinewidth": 0,
              "ticks": ""
             }
            },
            "type": "scattermapbox"
           }
          ],
          "scatterpolar": [
           {
            "marker": {
             "colorbar": {
              "outlinewidth": 0,
              "ticks": ""
             }
            },
            "type": "scatterpolar"
           }
          ],
          "scatterpolargl": [
           {
            "marker": {
             "colorbar": {
              "outlinewidth": 0,
              "ticks": ""
             }
            },
            "type": "scatterpolargl"
           }
          ],
          "scatterternary": [
           {
            "marker": {
             "colorbar": {
              "outlinewidth": 0,
              "ticks": ""
             }
            },
            "type": "scatterternary"
           }
          ],
          "surface": [
           {
            "colorbar": {
             "outlinewidth": 0,
             "ticks": ""
            },
            "colorscale": [
             [
              0,
              "#0d0887"
             ],
             [
              0.1111111111111111,
              "#46039f"
             ],
             [
              0.2222222222222222,
              "#7201a8"
             ],
             [
              0.3333333333333333,
              "#9c179e"
             ],
             [
              0.4444444444444444,
              "#bd3786"
             ],
             [
              0.5555555555555556,
              "#d8576b"
             ],
             [
              0.6666666666666666,
              "#ed7953"
             ],
             [
              0.7777777777777778,
              "#fb9f3a"
             ],
             [
              0.8888888888888888,
              "#fdca26"
             ],
             [
              1,
              "#f0f921"
             ]
            ],
            "type": "surface"
           }
          ],
          "table": [
           {
            "cells": {
             "fill": {
              "color": "#EBF0F8"
             },
             "line": {
              "color": "white"
             }
            },
            "header": {
             "fill": {
              "color": "#C8D4E3"
             },
             "line": {
              "color": "white"
             }
            },
            "type": "table"
           }
          ]
         },
         "layout": {
          "annotationdefaults": {
           "arrowcolor": "#2a3f5f",
           "arrowhead": 0,
           "arrowwidth": 1
          },
          "coloraxis": {
           "colorbar": {
            "outlinewidth": 0,
            "ticks": ""
           }
          },
          "colorscale": {
           "diverging": [
            [
             0,
             "#8e0152"
            ],
            [
             0.1,
             "#c51b7d"
            ],
            [
             0.2,
             "#de77ae"
            ],
            [
             0.3,
             "#f1b6da"
            ],
            [
             0.4,
             "#fde0ef"
            ],
            [
             0.5,
             "#f7f7f7"
            ],
            [
             0.6,
             "#e6f5d0"
            ],
            [
             0.7,
             "#b8e186"
            ],
            [
             0.8,
             "#7fbc41"
            ],
            [
             0.9,
             "#4d9221"
            ],
            [
             1,
             "#276419"
            ]
           ],
           "sequential": [
            [
             0,
             "#0d0887"
            ],
            [
             0.1111111111111111,
             "#46039f"
            ],
            [
             0.2222222222222222,
             "#7201a8"
            ],
            [
             0.3333333333333333,
             "#9c179e"
            ],
            [
             0.4444444444444444,
             "#bd3786"
            ],
            [
             0.5555555555555556,
             "#d8576b"
            ],
            [
             0.6666666666666666,
             "#ed7953"
            ],
            [
             0.7777777777777778,
             "#fb9f3a"
            ],
            [
             0.8888888888888888,
             "#fdca26"
            ],
            [
             1,
             "#f0f921"
            ]
           ],
           "sequentialminus": [
            [
             0,
             "#0d0887"
            ],
            [
             0.1111111111111111,
             "#46039f"
            ],
            [
             0.2222222222222222,
             "#7201a8"
            ],
            [
             0.3333333333333333,
             "#9c179e"
            ],
            [
             0.4444444444444444,
             "#bd3786"
            ],
            [
             0.5555555555555556,
             "#d8576b"
            ],
            [
             0.6666666666666666,
             "#ed7953"
            ],
            [
             0.7777777777777778,
             "#fb9f3a"
            ],
            [
             0.8888888888888888,
             "#fdca26"
            ],
            [
             1,
             "#f0f921"
            ]
           ]
          },
          "colorway": [
           "#636efa",
           "#EF553B",
           "#00cc96",
           "#ab63fa",
           "#FFA15A",
           "#19d3f3",
           "#FF6692",
           "#B6E880",
           "#FF97FF",
           "#FECB52"
          ],
          "font": {
           "color": "#2a3f5f"
          },
          "geo": {
           "bgcolor": "white",
           "lakecolor": "white",
           "landcolor": "#E5ECF6",
           "showlakes": true,
           "showland": true,
           "subunitcolor": "white"
          },
          "hoverlabel": {
           "align": "left"
          },
          "hovermode": "closest",
          "mapbox": {
           "style": "light"
          },
          "paper_bgcolor": "white",
          "plot_bgcolor": "#E5ECF6",
          "polar": {
           "angularaxis": {
            "gridcolor": "white",
            "linecolor": "white",
            "ticks": ""
           },
           "bgcolor": "#E5ECF6",
           "radialaxis": {
            "gridcolor": "white",
            "linecolor": "white",
            "ticks": ""
           }
          },
          "scene": {
           "xaxis": {
            "backgroundcolor": "#E5ECF6",
            "gridcolor": "white",
            "gridwidth": 2,
            "linecolor": "white",
            "showbackground": true,
            "ticks": "",
            "zerolinecolor": "white"
           },
           "yaxis": {
            "backgroundcolor": "#E5ECF6",
            "gridcolor": "white",
            "gridwidth": 2,
            "linecolor": "white",
            "showbackground": true,
            "ticks": "",
            "zerolinecolor": "white"
           },
           "zaxis": {
            "backgroundcolor": "#E5ECF6",
            "gridcolor": "white",
            "gridwidth": 2,
            "linecolor": "white",
            "showbackground": true,
            "ticks": "",
            "zerolinecolor": "white"
           }
          },
          "shapedefaults": {
           "line": {
            "color": "#2a3f5f"
           }
          },
          "ternary": {
           "aaxis": {
            "gridcolor": "white",
            "linecolor": "white",
            "ticks": ""
           },
           "baxis": {
            "gridcolor": "white",
            "linecolor": "white",
            "ticks": ""
           },
           "bgcolor": "#E5ECF6",
           "caxis": {
            "gridcolor": "white",
            "linecolor": "white",
            "ticks": ""
           }
          },
          "title": {
           "x": 0.05
          },
          "xaxis": {
           "automargin": true,
           "gridcolor": "white",
           "linecolor": "white",
           "ticks": "",
           "title": {
            "standoff": 15
           },
           "zerolinecolor": "white",
           "zerolinewidth": 2
          },
          "yaxis": {
           "automargin": true,
           "gridcolor": "white",
           "linecolor": "white",
           "ticks": "",
           "title": {
            "standoff": 15
           },
           "zerolinecolor": "white",
           "zerolinewidth": 2
          }
         }
        },
        "title": {
         "text": "Normalized edit distance distribution"
        },
        "xaxis": {
         "title": {
          "text": "edit distances"
         }
        },
        "yaxis": {
         "title": {
          "text": "Numbers"
         }
        }
       }
      },
      "text/html": [
       "<div>                            <div id=\"29901dc7-ea00-49f8-8ef3-cb29a7df3c20\" class=\"plotly-graph-div\" style=\"height:525px; width:100%;\"></div>            <script type=\"text/javascript\">                require([\"plotly\"], function(Plotly) {                    window.PLOTLYENV=window.PLOTLYENV || {};                                    if (document.getElementById(\"29901dc7-ea00-49f8-8ef3-cb29a7df3c20\")) {                    Plotly.newPlot(                        \"29901dc7-ea00-49f8-8ef3-cb29a7df3c20\",                        [{\"name\": \"minimap2\", \"type\": \"bar\", \"x\": [\"0.17\", \"0.17500000000000002\", \"0.18\", \"0.185\", \"0.19\", \"0.195\", \"0.2\", \"0.20500000000000002\", \"0.21\", \"0.215\", \"0.22\", \"0.225\", \"0.23\", \"0.23500000000000001\", \"0.24\", \"0.245\", \"0.25\", \"0.255\", \"0.26\", \"0.265\", \"0.27\", \"0.275\", \"0.28\", \"0.28500000000000003\", \"0.29\", \"0.295\", \"0.3\", \"0.305\", \"0.31\", \"0.32\", \"0.33\", \"0.34\", \"0.34500000000000003\", \"0.35000000000000003\", \"0.38\", \"0.435\", \"0.44\", \"0.58\"], \"y\": [3908, 2543, 1414, 815, 494, 344, 208, 205, 141, 131, 67, 82, 60, 39, 33, 30, 34, 21, 14, 9, 11, 6, 3, 6, 2, 2, 7, 2, 3, 0, 1, 0, 0, 0, 1, 1, 0, 0]}, {\"name\": \"minimap2\", \"type\": \"scatter\", \"x\": [\"0.17\", \"0.17500000000000002\", \"0.18\", \"0.185\", \"0.19\", \"0.195\", \"0.2\", \"0.20500000000000002\", \"0.21\", \"0.215\", \"0.22\", \"0.225\", \"0.23\", \"0.23500000000000001\", \"0.24\", \"0.245\", \"0.25\", \"0.255\", \"0.26\", \"0.265\", \"0.27\", \"0.275\", \"0.28\", \"0.28500000000000003\", \"0.29\", \"0.295\", \"0.3\", \"0.305\", \"0.31\", \"0.32\", \"0.33\", \"0.34\", \"0.34500000000000003\", \"0.35000000000000003\", \"0.38\", \"0.435\", \"0.44\", \"0.58\"], \"y\": [3908, 2543, 1414, 815, 494, 344, 208, 205, 141, 131, 67, 82, 60, 39, 33, 30, 34, 21, 14, 9, 11, 6, 3, 6, 2, 2, 7, 2, 3, 0, 1, 0, 0, 0, 1, 1, 0, 0]}, {\"name\": \"NGMLR\", \"type\": \"bar\", \"x\": [\"0.015\", \"0.03\", \"0.035\", \"0.04\", \"0.045\", \"0.05\", \"0.055\", \"0.06\", \"0.065\", \"0.07\", \"0.075\", \"0.08\", \"0.085\", \"0.09\", \"0.095\", \"0.1\", \"0.105\", \"0.11\", \"0.115\", \"0.12\", \"0.125\", \"0.13\", \"0.135\", \"0.14\", \"0.145\", \"0.15\", \"0.155\", \"0.16\", \"0.165\", \"0.17\", \"0.17500000000000002\", \"0.18\", \"0.185\", \"0.19\", \"0.195\", \"0.2\", \"0.20500000000000002\", \"0.21\", \"0.215\", \"0.22\", \"0.225\", \"0.23\", \"0.23500000000000001\", \"0.24\", \"0.245\", \"0.25\", \"0.27\", \"0.275\", \"0.29\"], \"y\": [0, 0, 0, 1, 1, 0, 1, 2, 0, 4, 2, 11, 5, 9, 14, 24, 33, 30, 65, 55, 76, 85, 120, 149, 161, 235, 242, 288, 1940, 3008, 1528, 753, 408, 208, 132, 85, 55, 32, 25, 9, 12, 10, 6, 2, 0, 1, 0, 0, 0]}, {\"name\": \"NGMLR\", \"type\": \"scatter\", \"x\": [\"0.015\", \"0.03\", \"0.035\", \"0.04\", \"0.045\", \"0.05\", \"0.055\", \"0.06\", \"0.065\", \"0.07\", \"0.075\", \"0.08\", \"0.085\", \"0.09\", \"0.095\", \"0.1\", \"0.105\", \"0.11\", \"0.115\", \"0.12\", \"0.125\", \"0.13\", \"0.135\", \"0.14\", \"0.145\", \"0.15\", \"0.155\", \"0.16\", \"0.165\", \"0.17\", \"0.17500000000000002\", \"0.18\", \"0.185\", \"0.19\", \"0.195\", \"0.2\", \"0.20500000000000002\", \"0.21\", \"0.215\", \"0.22\", \"0.225\", \"0.23\", \"0.23500000000000001\", \"0.24\", \"0.245\", \"0.25\", \"0.27\", \"0.275\", \"0.29\"], \"y\": [0, 0, 0, 1, 1, 0, 1, 2, 0, 4, 2, 11, 5, 9, 14, 24, 33, 30, 65, 55, 76, 85, 120, 149, 161, 235, 242, 288, 1940, 3008, 1528, 753, 408, 208, 132, 85, 55, 32, 25, 9, 12, 10, 6, 2, 0, 1, 0, 0, 0]}],                        {\"template\": {\"data\": {\"bar\": [{\"error_x\": {\"color\": \"#2a3f5f\"}, \"error_y\": {\"color\": \"#2a3f5f\"}, \"marker\": {\"line\": {\"color\": \"#E5ECF6\", \"width\": 0.5}}, \"type\": \"bar\"}], \"barpolar\": [{\"marker\": {\"line\": {\"color\": \"#E5ECF6\", \"width\": 0.5}}, \"type\": \"barpolar\"}], \"carpet\": [{\"aaxis\": {\"endlinecolor\": \"#2a3f5f\", \"gridcolor\": \"white\", \"linecolor\": \"white\", \"minorgridcolor\": \"white\", \"startlinecolor\": \"#2a3f5f\"}, \"baxis\": {\"endlinecolor\": \"#2a3f5f\", \"gridcolor\": \"white\", \"linecolor\": \"white\", \"minorgridcolor\": \"white\", \"startlinecolor\": \"#2a3f5f\"}, \"type\": \"carpet\"}], \"choropleth\": [{\"colorbar\": {\"outlinewidth\": 0, \"ticks\": \"\"}, \"type\": \"choropleth\"}], \"contour\": [{\"colorbar\": {\"outlinewidth\": 0, \"ticks\": \"\"}, \"colorscale\": [[0.0, \"#0d0887\"], [0.1111111111111111, \"#46039f\"], [0.2222222222222222, \"#7201a8\"], [0.3333333333333333, \"#9c179e\"], [0.4444444444444444, \"#bd3786\"], [0.5555555555555556, \"#d8576b\"], [0.6666666666666666, \"#ed7953\"], [0.7777777777777778, \"#fb9f3a\"], [0.8888888888888888, \"#fdca26\"], [1.0, \"#f0f921\"]], \"type\": \"contour\"}], \"contourcarpet\": [{\"colorbar\": {\"outlinewidth\": 0, \"ticks\": \"\"}, \"type\": \"contourcarpet\"}], \"heatmap\": [{\"colorbar\": {\"outlinewidth\": 0, \"ticks\": \"\"}, \"colorscale\": [[0.0, \"#0d0887\"], [0.1111111111111111, \"#46039f\"], [0.2222222222222222, \"#7201a8\"], [0.3333333333333333, \"#9c179e\"], [0.4444444444444444, \"#bd3786\"], [0.5555555555555556, \"#d8576b\"], [0.6666666666666666, \"#ed7953\"], [0.7777777777777778, \"#fb9f3a\"], [0.8888888888888888, \"#fdca26\"], [1.0, \"#f0f921\"]], \"type\": \"heatmap\"}], \"heatmapgl\": [{\"colorbar\": {\"outlinewidth\": 0, \"ticks\": \"\"}, \"colorscale\": [[0.0, \"#0d0887\"], [0.1111111111111111, \"#46039f\"], [0.2222222222222222, \"#7201a8\"], [0.3333333333333333, \"#9c179e\"], [0.4444444444444444, \"#bd3786\"], [0.5555555555555556, \"#d8576b\"], [0.6666666666666666, \"#ed7953\"], [0.7777777777777778, \"#fb9f3a\"], [0.8888888888888888, \"#fdca26\"], [1.0, \"#f0f921\"]], \"type\": \"heatmapgl\"}], \"histogram\": [{\"marker\": {\"colorbar\": {\"outlinewidth\": 0, \"ticks\": \"\"}}, \"type\": \"histogram\"}], \"histogram2d\": [{\"colorbar\": {\"outlinewidth\": 0, \"ticks\": \"\"}, \"colorscale\": [[0.0, \"#0d0887\"], [0.1111111111111111, \"#46039f\"], [0.2222222222222222, \"#7201a8\"], [0.3333333333333333, \"#9c179e\"], [0.4444444444444444, \"#bd3786\"], [0.5555555555555556, \"#d8576b\"], [0.6666666666666666, \"#ed7953\"], [0.7777777777777778, \"#fb9f3a\"], [0.8888888888888888, \"#fdca26\"], [1.0, \"#f0f921\"]], \"type\": \"histogram2d\"}], \"histogram2dcontour\": [{\"colorbar\": {\"outlinewidth\": 0, \"ticks\": \"\"}, \"colorscale\": [[0.0, \"#0d0887\"], [0.1111111111111111, \"#46039f\"], [0.2222222222222222, \"#7201a8\"], [0.3333333333333333, \"#9c179e\"], [0.4444444444444444, \"#bd3786\"], [0.5555555555555556, \"#d8576b\"], [0.6666666666666666, \"#ed7953\"], [0.7777777777777778, \"#fb9f3a\"], [0.8888888888888888, \"#fdca26\"], [1.0, \"#f0f921\"]], \"type\": \"histogram2dcontour\"}], \"mesh3d\": [{\"colorbar\": {\"outlinewidth\": 0, \"ticks\": \"\"}, \"type\": \"mesh3d\"}], \"parcoords\": [{\"line\": {\"colorbar\": {\"outlinewidth\": 0, \"ticks\": \"\"}}, \"type\": \"parcoords\"}], \"pie\": [{\"automargin\": true, \"type\": \"pie\"}], \"scatter\": [{\"marker\": {\"colorbar\": {\"outlinewidth\": 0, \"ticks\": \"\"}}, \"type\": \"scatter\"}], \"scatter3d\": [{\"line\": {\"colorbar\": {\"outlinewidth\": 0, \"ticks\": \"\"}}, \"marker\": {\"colorbar\": {\"outlinewidth\": 0, \"ticks\": \"\"}}, \"type\": \"scatter3d\"}], \"scattercarpet\": [{\"marker\": {\"colorbar\": {\"outlinewidth\": 0, \"ticks\": \"\"}}, \"type\": \"scattercarpet\"}], \"scattergeo\": [{\"marker\": {\"colorbar\": {\"outlinewidth\": 0, \"ticks\": \"\"}}, \"type\": \"scattergeo\"}], \"scattergl\": [{\"marker\": {\"colorbar\": {\"outlinewidth\": 0, \"ticks\": \"\"}}, \"type\": \"scattergl\"}], \"scattermapbox\": [{\"marker\": {\"colorbar\": {\"outlinewidth\": 0, \"ticks\": \"\"}}, \"type\": \"scattermapbox\"}], \"scatterpolar\": [{\"marker\": {\"colorbar\": {\"outlinewidth\": 0, \"ticks\": \"\"}}, \"type\": \"scatterpolar\"}], \"scatterpolargl\": [{\"marker\": {\"colorbar\": {\"outlinewidth\": 0, \"ticks\": \"\"}}, \"type\": \"scatterpolargl\"}], \"scatterternary\": [{\"marker\": {\"colorbar\": {\"outlinewidth\": 0, \"ticks\": \"\"}}, \"type\": \"scatterternary\"}], \"surface\": [{\"colorbar\": {\"outlinewidth\": 0, \"ticks\": \"\"}, \"colorscale\": [[0.0, \"#0d0887\"], [0.1111111111111111, \"#46039f\"], [0.2222222222222222, \"#7201a8\"], [0.3333333333333333, \"#9c179e\"], [0.4444444444444444, \"#bd3786\"], [0.5555555555555556, \"#d8576b\"], [0.6666666666666666, \"#ed7953\"], [0.7777777777777778, \"#fb9f3a\"], [0.8888888888888888, \"#fdca26\"], [1.0, \"#f0f921\"]], \"type\": \"surface\"}], \"table\": [{\"cells\": {\"fill\": {\"color\": \"#EBF0F8\"}, \"line\": {\"color\": \"white\"}}, \"header\": {\"fill\": {\"color\": \"#C8D4E3\"}, \"line\": {\"color\": \"white\"}}, \"type\": \"table\"}]}, \"layout\": {\"annotationdefaults\": {\"arrowcolor\": \"#2a3f5f\", \"arrowhead\": 0, \"arrowwidth\": 1}, \"coloraxis\": {\"colorbar\": {\"outlinewidth\": 0, \"ticks\": \"\"}}, \"colorscale\": {\"diverging\": [[0, \"#8e0152\"], [0.1, \"#c51b7d\"], [0.2, \"#de77ae\"], [0.3, \"#f1b6da\"], [0.4, \"#fde0ef\"], [0.5, \"#f7f7f7\"], [0.6, \"#e6f5d0\"], [0.7, \"#b8e186\"], [0.8, \"#7fbc41\"], [0.9, \"#4d9221\"], [1, \"#276419\"]], \"sequential\": [[0.0, \"#0d0887\"], [0.1111111111111111, \"#46039f\"], [0.2222222222222222, \"#7201a8\"], [0.3333333333333333, \"#9c179e\"], [0.4444444444444444, \"#bd3786\"], [0.5555555555555556, \"#d8576b\"], [0.6666666666666666, \"#ed7953\"], [0.7777777777777778, \"#fb9f3a\"], [0.8888888888888888, \"#fdca26\"], [1.0, \"#f0f921\"]], \"sequentialminus\": [[0.0, \"#0d0887\"], [0.1111111111111111, \"#46039f\"], [0.2222222222222222, \"#7201a8\"], [0.3333333333333333, \"#9c179e\"], [0.4444444444444444, \"#bd3786\"], [0.5555555555555556, \"#d8576b\"], [0.6666666666666666, \"#ed7953\"], [0.7777777777777778, \"#fb9f3a\"], [0.8888888888888888, \"#fdca26\"], [1.0, \"#f0f921\"]]}, \"colorway\": [\"#636efa\", \"#EF553B\", \"#00cc96\", \"#ab63fa\", \"#FFA15A\", \"#19d3f3\", \"#FF6692\", \"#B6E880\", \"#FF97FF\", \"#FECB52\"], \"font\": {\"color\": \"#2a3f5f\"}, \"geo\": {\"bgcolor\": \"white\", \"lakecolor\": \"white\", \"landcolor\": \"#E5ECF6\", \"showlakes\": true, \"showland\": true, \"subunitcolor\": \"white\"}, \"hoverlabel\": {\"align\": \"left\"}, \"hovermode\": \"closest\", \"mapbox\": {\"style\": \"light\"}, \"paper_bgcolor\": \"white\", \"plot_bgcolor\": \"#E5ECF6\", \"polar\": {\"angularaxis\": {\"gridcolor\": \"white\", \"linecolor\": \"white\", \"ticks\": \"\"}, \"bgcolor\": \"#E5ECF6\", \"radialaxis\": {\"gridcolor\": \"white\", \"linecolor\": \"white\", \"ticks\": \"\"}}, \"scene\": {\"xaxis\": {\"backgroundcolor\": \"#E5ECF6\", \"gridcolor\": \"white\", \"gridwidth\": 2, \"linecolor\": \"white\", \"showbackground\": true, \"ticks\": \"\", \"zerolinecolor\": \"white\"}, \"yaxis\": {\"backgroundcolor\": \"#E5ECF6\", \"gridcolor\": \"white\", \"gridwidth\": 2, \"linecolor\": \"white\", \"showbackground\": true, \"ticks\": \"\", \"zerolinecolor\": \"white\"}, \"zaxis\": {\"backgroundcolor\": \"#E5ECF6\", \"gridcolor\": \"white\", \"gridwidth\": 2, \"linecolor\": \"white\", \"showbackground\": true, \"ticks\": \"\", \"zerolinecolor\": \"white\"}}, \"shapedefaults\": {\"line\": {\"color\": \"#2a3f5f\"}}, \"ternary\": {\"aaxis\": {\"gridcolor\": \"white\", \"linecolor\": \"white\", \"ticks\": \"\"}, \"baxis\": {\"gridcolor\": \"white\", \"linecolor\": \"white\", \"ticks\": \"\"}, \"bgcolor\": \"#E5ECF6\", \"caxis\": {\"gridcolor\": \"white\", \"linecolor\": \"white\", \"ticks\": \"\"}}, \"title\": {\"x\": 0.05}, \"xaxis\": {\"automargin\": true, \"gridcolor\": \"white\", \"linecolor\": \"white\", \"ticks\": \"\", \"title\": {\"standoff\": 15}, \"zerolinecolor\": \"white\", \"zerolinewidth\": 2}, \"yaxis\": {\"automargin\": true, \"gridcolor\": \"white\", \"linecolor\": \"white\", \"ticks\": \"\", \"title\": {\"standoff\": 15}, \"zerolinecolor\": \"white\", \"zerolinewidth\": 2}}}, \"title\": {\"text\": \"Normalized edit distance distribution\"}, \"xaxis\": {\"title\": {\"text\": \"edit distances\"}}, \"yaxis\": {\"title\": {\"text\": \"Numbers\"}}},                        {\"responsive\": true}                    ).then(function(){\n",
       "                            \n",
       "var gd = document.getElementById('29901dc7-ea00-49f8-8ef3-cb29a7df3c20');\n",
       "var x = new MutationObserver(function (mutations, observer) {{\n",
       "        var display = window.getComputedStyle(gd).display;\n",
       "        if (!display || display === 'none') {{\n",
       "            console.log([gd, 'removed!']);\n",
       "            Plotly.purge(gd);\n",
       "            observer.disconnect();\n",
       "        }}\n",
       "}});\n",
       "\n",
       "// Listen for the removal of the full notebook cells\n",
       "var notebookContainer = gd.closest('#notebook-container');\n",
       "if (notebookContainer) {{\n",
       "    x.observe(notebookContainer, {childList: true});\n",
       "}}\n",
       "\n",
       "// Listen for the clearing of the current output cell\n",
       "var outputEl = gd.closest('.output');\n",
       "if (outputEl) {{\n",
       "    x.observe(outputEl, {childList: true});\n",
       "}}\n",
       "\n",
       "                        })                };                });            </script>        </div>"
      ]
     },
     "metadata": {},
     "output_type": "display_data"
    }
   ],
   "source": [
    "edit_distance_compare(ngmlr_above_edit_distance, minimap2_above_edit_distance, raw_edit_distance, hybrid=False)"
   ]
  },
  {
   "cell_type": "code",
   "execution_count": 128,
   "metadata": {},
   "outputs": [
    {
     "name": "stderr",
     "output_type": "stream",
     "text": [
      "2020-10-20 14:12:23,871 - __main__ - INFO - samtools view -h -@ 60 ../Saccharomyces_cerevisiae/work/hybrid_ngmlr.bam -o ../Saccharomyces_cerevisiae/work/final.sam\n"
     ]
    }
   ],
   "source": [
    "bam_to_sam(final_bam, final_sam)"
   ]
  },
  {
   "cell_type": "code",
   "execution_count": 129,
   "metadata": {},
   "outputs": [
    {
     "name": "stderr",
     "output_type": "stream",
     "text": [
      "65713it [00:01, 41721.91it/s]\n"
     ]
    },
    {
     "data": {
      "text/plain": [
       "'../Saccharomyces_cerevisiae/work/final_edit_distance.txt'"
      ]
     },
     "execution_count": 129,
     "metadata": {},
     "output_type": "execute_result"
    }
   ],
   "source": [
    "generate_distance_file(final_sam, final_edit_distance, raw_edit_distance)"
   ]
  },
  {
   "cell_type": "code",
   "execution_count": 130,
   "metadata": {},
   "outputs": [
    {
     "data": {
      "application/vnd.plotly.v1+json": {
       "config": {
        "plotlyServerURL": "https://plot.ly"
       },
       "data": [
        {
         "name": "minimap2",
         "type": "bar",
         "x": [
          "0.005",
          "0.02",
          "0.025",
          "0.03",
          "0.035",
          "0.04",
          "0.045",
          "0.05",
          "0.055",
          "0.06",
          "0.065",
          "0.07",
          "0.075",
          "0.08",
          "0.085",
          "0.09",
          "0.095",
          "0.1",
          "0.105",
          "0.11",
          "0.115",
          "0.12",
          "0.125",
          "0.13",
          "0.135",
          "0.14",
          "0.145",
          "0.15",
          "0.155",
          "0.16",
          "0.165",
          "0.17",
          "0.17500000000000002",
          "0.18",
          "0.185",
          "0.19",
          "0.195",
          "0.2",
          "0.20500000000000002",
          "0.21",
          "0.215",
          "0.22",
          "0.225",
          "0.23",
          "0.23500000000000001",
          "0.24",
          "0.245",
          "0.25",
          "0.255",
          "0.26",
          "0.265",
          "0.27",
          "0.275",
          "0.28",
          "0.28500000000000003",
          "0.29",
          "0.295",
          "0.3",
          "0.305",
          "0.31",
          "0.33",
          "0.34500000000000003",
          "0.35000000000000003",
          "0.38"
         ],
         "y": [
          0,
          1,
          1,
          4,
          5,
          3,
          9,
          6,
          5,
          13,
          12,
          15,
          22,
          31,
          34,
          44,
          61,
          78,
          124,
          170,
          232,
          355,
          574,
          953,
          1821,
          3555,
          6127,
          8715,
          10250,
          9602,
          6964,
          4160,
          2210,
          1161,
          636,
          357,
          239,
          138,
          141,
          92,
          84,
          43,
          58,
          35,
          26,
          24,
          16,
          17,
          16,
          12,
          5,
          5,
          2,
          1,
          4,
          2,
          1,
          2,
          2,
          2,
          0,
          0,
          0,
          0
         ]
        },
        {
         "name": "minimap2",
         "type": "scatter",
         "x": [
          "0.005",
          "0.02",
          "0.025",
          "0.03",
          "0.035",
          "0.04",
          "0.045",
          "0.05",
          "0.055",
          "0.06",
          "0.065",
          "0.07",
          "0.075",
          "0.08",
          "0.085",
          "0.09",
          "0.095",
          "0.1",
          "0.105",
          "0.11",
          "0.115",
          "0.12",
          "0.125",
          "0.13",
          "0.135",
          "0.14",
          "0.145",
          "0.15",
          "0.155",
          "0.16",
          "0.165",
          "0.17",
          "0.17500000000000002",
          "0.18",
          "0.185",
          "0.19",
          "0.195",
          "0.2",
          "0.20500000000000002",
          "0.21",
          "0.215",
          "0.22",
          "0.225",
          "0.23",
          "0.23500000000000001",
          "0.24",
          "0.245",
          "0.25",
          "0.255",
          "0.26",
          "0.265",
          "0.27",
          "0.275",
          "0.28",
          "0.28500000000000003",
          "0.29",
          "0.295",
          "0.3",
          "0.305",
          "0.31",
          "0.33",
          "0.34500000000000003",
          "0.35000000000000003",
          "0.38"
         ],
         "y": [
          0,
          1,
          1,
          4,
          5,
          3,
          9,
          6,
          5,
          13,
          12,
          15,
          22,
          31,
          34,
          44,
          61,
          78,
          124,
          170,
          232,
          355,
          574,
          953,
          1821,
          3555,
          6127,
          8715,
          10250,
          9602,
          6964,
          4160,
          2210,
          1161,
          636,
          357,
          239,
          138,
          141,
          92,
          84,
          43,
          58,
          35,
          26,
          24,
          16,
          17,
          16,
          12,
          5,
          5,
          2,
          1,
          4,
          2,
          1,
          2,
          2,
          2,
          0,
          0,
          0,
          0
         ]
        },
        {
         "name": "hybrid_NGMLR",
         "type": "bar",
         "x": [
          "0.0",
          "0.005",
          "0.01",
          "0.015",
          "0.02",
          "0.025",
          "0.03",
          "0.035",
          "0.04",
          "0.045",
          "0.05",
          "0.055",
          "0.06",
          "0.065",
          "0.07",
          "0.075",
          "0.08",
          "0.085",
          "0.09",
          "0.095",
          "0.1",
          "0.105",
          "0.11",
          "0.115",
          "0.12",
          "0.125",
          "0.13",
          "0.135",
          "0.14",
          "0.145",
          "0.15",
          "0.155",
          "0.16",
          "0.165",
          "0.17",
          "0.17500000000000002",
          "0.18",
          "0.185",
          "0.19",
          "0.195",
          "0.2",
          "0.20500000000000002",
          "0.21",
          "0.215",
          "0.22",
          "0.225",
          "0.23",
          "0.23500000000000001",
          "0.24",
          "0.245",
          "0.25",
          "0.27",
          "0.275",
          "0.29"
         ],
         "y": [
          3,
          0,
          2,
          2,
          4,
          5,
          10,
          12,
          12,
          20,
          19,
          20,
          22,
          26,
          29,
          47,
          63,
          75,
          100,
          123,
          179,
          244,
          298,
          456,
          567,
          890,
          1299,
          2224,
          4060,
          6730,
          9507,
          11110,
          10461,
          9422,
          3674,
          1528,
          753,
          408,
          208,
          132,
          85,
          55,
          32,
          25,
          9,
          12,
          10,
          6,
          2,
          0,
          1,
          0,
          0,
          0
         ]
        },
        {
         "name": "hybrid_NGMLR",
         "type": "scatter",
         "x": [
          "0.0",
          "0.005",
          "0.01",
          "0.015",
          "0.02",
          "0.025",
          "0.03",
          "0.035",
          "0.04",
          "0.045",
          "0.05",
          "0.055",
          "0.06",
          "0.065",
          "0.07",
          "0.075",
          "0.08",
          "0.085",
          "0.09",
          "0.095",
          "0.1",
          "0.105",
          "0.11",
          "0.115",
          "0.12",
          "0.125",
          "0.13",
          "0.135",
          "0.14",
          "0.145",
          "0.15",
          "0.155",
          "0.16",
          "0.165",
          "0.17",
          "0.17500000000000002",
          "0.18",
          "0.185",
          "0.19",
          "0.195",
          "0.2",
          "0.20500000000000002",
          "0.21",
          "0.215",
          "0.22",
          "0.225",
          "0.23",
          "0.23500000000000001",
          "0.24",
          "0.245",
          "0.25",
          "0.27",
          "0.275",
          "0.29"
         ],
         "y": [
          3,
          0,
          2,
          2,
          4,
          5,
          10,
          12,
          12,
          20,
          19,
          20,
          22,
          26,
          29,
          47,
          63,
          75,
          100,
          123,
          179,
          244,
          298,
          456,
          567,
          890,
          1299,
          2224,
          4060,
          6730,
          9507,
          11110,
          10461,
          9422,
          3674,
          1528,
          753,
          408,
          208,
          132,
          85,
          55,
          32,
          25,
          9,
          12,
          10,
          6,
          2,
          0,
          1,
          0,
          0,
          0
         ]
        }
       ],
       "layout": {
        "template": {
         "data": {
          "bar": [
           {
            "error_x": {
             "color": "#2a3f5f"
            },
            "error_y": {
             "color": "#2a3f5f"
            },
            "marker": {
             "line": {
              "color": "#E5ECF6",
              "width": 0.5
             }
            },
            "type": "bar"
           }
          ],
          "barpolar": [
           {
            "marker": {
             "line": {
              "color": "#E5ECF6",
              "width": 0.5
             }
            },
            "type": "barpolar"
           }
          ],
          "carpet": [
           {
            "aaxis": {
             "endlinecolor": "#2a3f5f",
             "gridcolor": "white",
             "linecolor": "white",
             "minorgridcolor": "white",
             "startlinecolor": "#2a3f5f"
            },
            "baxis": {
             "endlinecolor": "#2a3f5f",
             "gridcolor": "white",
             "linecolor": "white",
             "minorgridcolor": "white",
             "startlinecolor": "#2a3f5f"
            },
            "type": "carpet"
           }
          ],
          "choropleth": [
           {
            "colorbar": {
             "outlinewidth": 0,
             "ticks": ""
            },
            "type": "choropleth"
           }
          ],
          "contour": [
           {
            "colorbar": {
             "outlinewidth": 0,
             "ticks": ""
            },
            "colorscale": [
             [
              0,
              "#0d0887"
             ],
             [
              0.1111111111111111,
              "#46039f"
             ],
             [
              0.2222222222222222,
              "#7201a8"
             ],
             [
              0.3333333333333333,
              "#9c179e"
             ],
             [
              0.4444444444444444,
              "#bd3786"
             ],
             [
              0.5555555555555556,
              "#d8576b"
             ],
             [
              0.6666666666666666,
              "#ed7953"
             ],
             [
              0.7777777777777778,
              "#fb9f3a"
             ],
             [
              0.8888888888888888,
              "#fdca26"
             ],
             [
              1,
              "#f0f921"
             ]
            ],
            "type": "contour"
           }
          ],
          "contourcarpet": [
           {
            "colorbar": {
             "outlinewidth": 0,
             "ticks": ""
            },
            "type": "contourcarpet"
           }
          ],
          "heatmap": [
           {
            "colorbar": {
             "outlinewidth": 0,
             "ticks": ""
            },
            "colorscale": [
             [
              0,
              "#0d0887"
             ],
             [
              0.1111111111111111,
              "#46039f"
             ],
             [
              0.2222222222222222,
              "#7201a8"
             ],
             [
              0.3333333333333333,
              "#9c179e"
             ],
             [
              0.4444444444444444,
              "#bd3786"
             ],
             [
              0.5555555555555556,
              "#d8576b"
             ],
             [
              0.6666666666666666,
              "#ed7953"
             ],
             [
              0.7777777777777778,
              "#fb9f3a"
             ],
             [
              0.8888888888888888,
              "#fdca26"
             ],
             [
              1,
              "#f0f921"
             ]
            ],
            "type": "heatmap"
           }
          ],
          "heatmapgl": [
           {
            "colorbar": {
             "outlinewidth": 0,
             "ticks": ""
            },
            "colorscale": [
             [
              0,
              "#0d0887"
             ],
             [
              0.1111111111111111,
              "#46039f"
             ],
             [
              0.2222222222222222,
              "#7201a8"
             ],
             [
              0.3333333333333333,
              "#9c179e"
             ],
             [
              0.4444444444444444,
              "#bd3786"
             ],
             [
              0.5555555555555556,
              "#d8576b"
             ],
             [
              0.6666666666666666,
              "#ed7953"
             ],
             [
              0.7777777777777778,
              "#fb9f3a"
             ],
             [
              0.8888888888888888,
              "#fdca26"
             ],
             [
              1,
              "#f0f921"
             ]
            ],
            "type": "heatmapgl"
           }
          ],
          "histogram": [
           {
            "marker": {
             "colorbar": {
              "outlinewidth": 0,
              "ticks": ""
             }
            },
            "type": "histogram"
           }
          ],
          "histogram2d": [
           {
            "colorbar": {
             "outlinewidth": 0,
             "ticks": ""
            },
            "colorscale": [
             [
              0,
              "#0d0887"
             ],
             [
              0.1111111111111111,
              "#46039f"
             ],
             [
              0.2222222222222222,
              "#7201a8"
             ],
             [
              0.3333333333333333,
              "#9c179e"
             ],
             [
              0.4444444444444444,
              "#bd3786"
             ],
             [
              0.5555555555555556,
              "#d8576b"
             ],
             [
              0.6666666666666666,
              "#ed7953"
             ],
             [
              0.7777777777777778,
              "#fb9f3a"
             ],
             [
              0.8888888888888888,
              "#fdca26"
             ],
             [
              1,
              "#f0f921"
             ]
            ],
            "type": "histogram2d"
           }
          ],
          "histogram2dcontour": [
           {
            "colorbar": {
             "outlinewidth": 0,
             "ticks": ""
            },
            "colorscale": [
             [
              0,
              "#0d0887"
             ],
             [
              0.1111111111111111,
              "#46039f"
             ],
             [
              0.2222222222222222,
              "#7201a8"
             ],
             [
              0.3333333333333333,
              "#9c179e"
             ],
             [
              0.4444444444444444,
              "#bd3786"
             ],
             [
              0.5555555555555556,
              "#d8576b"
             ],
             [
              0.6666666666666666,
              "#ed7953"
             ],
             [
              0.7777777777777778,
              "#fb9f3a"
             ],
             [
              0.8888888888888888,
              "#fdca26"
             ],
             [
              1,
              "#f0f921"
             ]
            ],
            "type": "histogram2dcontour"
           }
          ],
          "mesh3d": [
           {
            "colorbar": {
             "outlinewidth": 0,
             "ticks": ""
            },
            "type": "mesh3d"
           }
          ],
          "parcoords": [
           {
            "line": {
             "colorbar": {
              "outlinewidth": 0,
              "ticks": ""
             }
            },
            "type": "parcoords"
           }
          ],
          "pie": [
           {
            "automargin": true,
            "type": "pie"
           }
          ],
          "scatter": [
           {
            "marker": {
             "colorbar": {
              "outlinewidth": 0,
              "ticks": ""
             }
            },
            "type": "scatter"
           }
          ],
          "scatter3d": [
           {
            "line": {
             "colorbar": {
              "outlinewidth": 0,
              "ticks": ""
             }
            },
            "marker": {
             "colorbar": {
              "outlinewidth": 0,
              "ticks": ""
             }
            },
            "type": "scatter3d"
           }
          ],
          "scattercarpet": [
           {
            "marker": {
             "colorbar": {
              "outlinewidth": 0,
              "ticks": ""
             }
            },
            "type": "scattercarpet"
           }
          ],
          "scattergeo": [
           {
            "marker": {
             "colorbar": {
              "outlinewidth": 0,
              "ticks": ""
             }
            },
            "type": "scattergeo"
           }
          ],
          "scattergl": [
           {
            "marker": {
             "colorbar": {
              "outlinewidth": 0,
              "ticks": ""
             }
            },
            "type": "scattergl"
           }
          ],
          "scattermapbox": [
           {
            "marker": {
             "colorbar": {
              "outlinewidth": 0,
              "ticks": ""
             }
            },
            "type": "scattermapbox"
           }
          ],
          "scatterpolar": [
           {
            "marker": {
             "colorbar": {
              "outlinewidth": 0,
              "ticks": ""
             }
            },
            "type": "scatterpolar"
           }
          ],
          "scatterpolargl": [
           {
            "marker": {
             "colorbar": {
              "outlinewidth": 0,
              "ticks": ""
             }
            },
            "type": "scatterpolargl"
           }
          ],
          "scatterternary": [
           {
            "marker": {
             "colorbar": {
              "outlinewidth": 0,
              "ticks": ""
             }
            },
            "type": "scatterternary"
           }
          ],
          "surface": [
           {
            "colorbar": {
             "outlinewidth": 0,
             "ticks": ""
            },
            "colorscale": [
             [
              0,
              "#0d0887"
             ],
             [
              0.1111111111111111,
              "#46039f"
             ],
             [
              0.2222222222222222,
              "#7201a8"
             ],
             [
              0.3333333333333333,
              "#9c179e"
             ],
             [
              0.4444444444444444,
              "#bd3786"
             ],
             [
              0.5555555555555556,
              "#d8576b"
             ],
             [
              0.6666666666666666,
              "#ed7953"
             ],
             [
              0.7777777777777778,
              "#fb9f3a"
             ],
             [
              0.8888888888888888,
              "#fdca26"
             ],
             [
              1,
              "#f0f921"
             ]
            ],
            "type": "surface"
           }
          ],
          "table": [
           {
            "cells": {
             "fill": {
              "color": "#EBF0F8"
             },
             "line": {
              "color": "white"
             }
            },
            "header": {
             "fill": {
              "color": "#C8D4E3"
             },
             "line": {
              "color": "white"
             }
            },
            "type": "table"
           }
          ]
         },
         "layout": {
          "annotationdefaults": {
           "arrowcolor": "#2a3f5f",
           "arrowhead": 0,
           "arrowwidth": 1
          },
          "coloraxis": {
           "colorbar": {
            "outlinewidth": 0,
            "ticks": ""
           }
          },
          "colorscale": {
           "diverging": [
            [
             0,
             "#8e0152"
            ],
            [
             0.1,
             "#c51b7d"
            ],
            [
             0.2,
             "#de77ae"
            ],
            [
             0.3,
             "#f1b6da"
            ],
            [
             0.4,
             "#fde0ef"
            ],
            [
             0.5,
             "#f7f7f7"
            ],
            [
             0.6,
             "#e6f5d0"
            ],
            [
             0.7,
             "#b8e186"
            ],
            [
             0.8,
             "#7fbc41"
            ],
            [
             0.9,
             "#4d9221"
            ],
            [
             1,
             "#276419"
            ]
           ],
           "sequential": [
            [
             0,
             "#0d0887"
            ],
            [
             0.1111111111111111,
             "#46039f"
            ],
            [
             0.2222222222222222,
             "#7201a8"
            ],
            [
             0.3333333333333333,
             "#9c179e"
            ],
            [
             0.4444444444444444,
             "#bd3786"
            ],
            [
             0.5555555555555556,
             "#d8576b"
            ],
            [
             0.6666666666666666,
             "#ed7953"
            ],
            [
             0.7777777777777778,
             "#fb9f3a"
            ],
            [
             0.8888888888888888,
             "#fdca26"
            ],
            [
             1,
             "#f0f921"
            ]
           ],
           "sequentialminus": [
            [
             0,
             "#0d0887"
            ],
            [
             0.1111111111111111,
             "#46039f"
            ],
            [
             0.2222222222222222,
             "#7201a8"
            ],
            [
             0.3333333333333333,
             "#9c179e"
            ],
            [
             0.4444444444444444,
             "#bd3786"
            ],
            [
             0.5555555555555556,
             "#d8576b"
            ],
            [
             0.6666666666666666,
             "#ed7953"
            ],
            [
             0.7777777777777778,
             "#fb9f3a"
            ],
            [
             0.8888888888888888,
             "#fdca26"
            ],
            [
             1,
             "#f0f921"
            ]
           ]
          },
          "colorway": [
           "#636efa",
           "#EF553B",
           "#00cc96",
           "#ab63fa",
           "#FFA15A",
           "#19d3f3",
           "#FF6692",
           "#B6E880",
           "#FF97FF",
           "#FECB52"
          ],
          "font": {
           "color": "#2a3f5f"
          },
          "geo": {
           "bgcolor": "white",
           "lakecolor": "white",
           "landcolor": "#E5ECF6",
           "showlakes": true,
           "showland": true,
           "subunitcolor": "white"
          },
          "hoverlabel": {
           "align": "left"
          },
          "hovermode": "closest",
          "mapbox": {
           "style": "light"
          },
          "paper_bgcolor": "white",
          "plot_bgcolor": "#E5ECF6",
          "polar": {
           "angularaxis": {
            "gridcolor": "white",
            "linecolor": "white",
            "ticks": ""
           },
           "bgcolor": "#E5ECF6",
           "radialaxis": {
            "gridcolor": "white",
            "linecolor": "white",
            "ticks": ""
           }
          },
          "scene": {
           "xaxis": {
            "backgroundcolor": "#E5ECF6",
            "gridcolor": "white",
            "gridwidth": 2,
            "linecolor": "white",
            "showbackground": true,
            "ticks": "",
            "zerolinecolor": "white"
           },
           "yaxis": {
            "backgroundcolor": "#E5ECF6",
            "gridcolor": "white",
            "gridwidth": 2,
            "linecolor": "white",
            "showbackground": true,
            "ticks": "",
            "zerolinecolor": "white"
           },
           "zaxis": {
            "backgroundcolor": "#E5ECF6",
            "gridcolor": "white",
            "gridwidth": 2,
            "linecolor": "white",
            "showbackground": true,
            "ticks": "",
            "zerolinecolor": "white"
           }
          },
          "shapedefaults": {
           "line": {
            "color": "#2a3f5f"
           }
          },
          "ternary": {
           "aaxis": {
            "gridcolor": "white",
            "linecolor": "white",
            "ticks": ""
           },
           "baxis": {
            "gridcolor": "white",
            "linecolor": "white",
            "ticks": ""
           },
           "bgcolor": "#E5ECF6",
           "caxis": {
            "gridcolor": "white",
            "linecolor": "white",
            "ticks": ""
           }
          },
          "title": {
           "x": 0.05
          },
          "xaxis": {
           "automargin": true,
           "gridcolor": "white",
           "linecolor": "white",
           "ticks": "",
           "title": {
            "standoff": 15
           },
           "zerolinecolor": "white",
           "zerolinewidth": 2
          },
          "yaxis": {
           "automargin": true,
           "gridcolor": "white",
           "linecolor": "white",
           "ticks": "",
           "title": {
            "standoff": 15
           },
           "zerolinecolor": "white",
           "zerolinewidth": 2
          }
         }
        },
        "title": {
         "text": "Normalized edit distance distribution"
        },
        "xaxis": {
         "title": {
          "text": "edit distances"
         }
        },
        "yaxis": {
         "title": {
          "text": "Numbers"
         }
        }
       }
      },
      "text/html": [
       "<div>                            <div id=\"4607990c-aa60-4828-8561-9e19697dc754\" class=\"plotly-graph-div\" style=\"height:525px; width:100%;\"></div>            <script type=\"text/javascript\">                require([\"plotly\"], function(Plotly) {                    window.PLOTLYENV=window.PLOTLYENV || {};                                    if (document.getElementById(\"4607990c-aa60-4828-8561-9e19697dc754\")) {                    Plotly.newPlot(                        \"4607990c-aa60-4828-8561-9e19697dc754\",                        [{\"name\": \"minimap2\", \"type\": \"bar\", \"x\": [\"0.005\", \"0.02\", \"0.025\", \"0.03\", \"0.035\", \"0.04\", \"0.045\", \"0.05\", \"0.055\", \"0.06\", \"0.065\", \"0.07\", \"0.075\", \"0.08\", \"0.085\", \"0.09\", \"0.095\", \"0.1\", \"0.105\", \"0.11\", \"0.115\", \"0.12\", \"0.125\", \"0.13\", \"0.135\", \"0.14\", \"0.145\", \"0.15\", \"0.155\", \"0.16\", \"0.165\", \"0.17\", \"0.17500000000000002\", \"0.18\", \"0.185\", \"0.19\", \"0.195\", \"0.2\", \"0.20500000000000002\", \"0.21\", \"0.215\", \"0.22\", \"0.225\", \"0.23\", \"0.23500000000000001\", \"0.24\", \"0.245\", \"0.25\", \"0.255\", \"0.26\", \"0.265\", \"0.27\", \"0.275\", \"0.28\", \"0.28500000000000003\", \"0.29\", \"0.295\", \"0.3\", \"0.305\", \"0.31\", \"0.33\", \"0.34500000000000003\", \"0.35000000000000003\", \"0.38\"], \"y\": [0, 1, 1, 4, 5, 3, 9, 6, 5, 13, 12, 15, 22, 31, 34, 44, 61, 78, 124, 170, 232, 355, 574, 953, 1821, 3555, 6127, 8715, 10250, 9602, 6964, 4160, 2210, 1161, 636, 357, 239, 138, 141, 92, 84, 43, 58, 35, 26, 24, 16, 17, 16, 12, 5, 5, 2, 1, 4, 2, 1, 2, 2, 2, 0, 0, 0, 0]}, {\"name\": \"minimap2\", \"type\": \"scatter\", \"x\": [\"0.005\", \"0.02\", \"0.025\", \"0.03\", \"0.035\", \"0.04\", \"0.045\", \"0.05\", \"0.055\", \"0.06\", \"0.065\", \"0.07\", \"0.075\", \"0.08\", \"0.085\", \"0.09\", \"0.095\", \"0.1\", \"0.105\", \"0.11\", \"0.115\", \"0.12\", \"0.125\", \"0.13\", \"0.135\", \"0.14\", \"0.145\", \"0.15\", \"0.155\", \"0.16\", \"0.165\", \"0.17\", \"0.17500000000000002\", \"0.18\", \"0.185\", \"0.19\", \"0.195\", \"0.2\", \"0.20500000000000002\", \"0.21\", \"0.215\", \"0.22\", \"0.225\", \"0.23\", \"0.23500000000000001\", \"0.24\", \"0.245\", \"0.25\", \"0.255\", \"0.26\", \"0.265\", \"0.27\", \"0.275\", \"0.28\", \"0.28500000000000003\", \"0.29\", \"0.295\", \"0.3\", \"0.305\", \"0.31\", \"0.33\", \"0.34500000000000003\", \"0.35000000000000003\", \"0.38\"], \"y\": [0, 1, 1, 4, 5, 3, 9, 6, 5, 13, 12, 15, 22, 31, 34, 44, 61, 78, 124, 170, 232, 355, 574, 953, 1821, 3555, 6127, 8715, 10250, 9602, 6964, 4160, 2210, 1161, 636, 357, 239, 138, 141, 92, 84, 43, 58, 35, 26, 24, 16, 17, 16, 12, 5, 5, 2, 1, 4, 2, 1, 2, 2, 2, 0, 0, 0, 0]}, {\"name\": \"hybrid_NGMLR\", \"type\": \"bar\", \"x\": [\"0.0\", \"0.005\", \"0.01\", \"0.015\", \"0.02\", \"0.025\", \"0.03\", \"0.035\", \"0.04\", \"0.045\", \"0.05\", \"0.055\", \"0.06\", \"0.065\", \"0.07\", \"0.075\", \"0.08\", \"0.085\", \"0.09\", \"0.095\", \"0.1\", \"0.105\", \"0.11\", \"0.115\", \"0.12\", \"0.125\", \"0.13\", \"0.135\", \"0.14\", \"0.145\", \"0.15\", \"0.155\", \"0.16\", \"0.165\", \"0.17\", \"0.17500000000000002\", \"0.18\", \"0.185\", \"0.19\", \"0.195\", \"0.2\", \"0.20500000000000002\", \"0.21\", \"0.215\", \"0.22\", \"0.225\", \"0.23\", \"0.23500000000000001\", \"0.24\", \"0.245\", \"0.25\", \"0.27\", \"0.275\", \"0.29\"], \"y\": [3, 0, 2, 2, 4, 5, 10, 12, 12, 20, 19, 20, 22, 26, 29, 47, 63, 75, 100, 123, 179, 244, 298, 456, 567, 890, 1299, 2224, 4060, 6730, 9507, 11110, 10461, 9422, 3674, 1528, 753, 408, 208, 132, 85, 55, 32, 25, 9, 12, 10, 6, 2, 0, 1, 0, 0, 0]}, {\"name\": \"hybrid_NGMLR\", \"type\": \"scatter\", \"x\": [\"0.0\", \"0.005\", \"0.01\", \"0.015\", \"0.02\", \"0.025\", \"0.03\", \"0.035\", \"0.04\", \"0.045\", \"0.05\", \"0.055\", \"0.06\", \"0.065\", \"0.07\", \"0.075\", \"0.08\", \"0.085\", \"0.09\", \"0.095\", \"0.1\", \"0.105\", \"0.11\", \"0.115\", \"0.12\", \"0.125\", \"0.13\", \"0.135\", \"0.14\", \"0.145\", \"0.15\", \"0.155\", \"0.16\", \"0.165\", \"0.17\", \"0.17500000000000002\", \"0.18\", \"0.185\", \"0.19\", \"0.195\", \"0.2\", \"0.20500000000000002\", \"0.21\", \"0.215\", \"0.22\", \"0.225\", \"0.23\", \"0.23500000000000001\", \"0.24\", \"0.245\", \"0.25\", \"0.27\", \"0.275\", \"0.29\"], \"y\": [3, 0, 2, 2, 4, 5, 10, 12, 12, 20, 19, 20, 22, 26, 29, 47, 63, 75, 100, 123, 179, 244, 298, 456, 567, 890, 1299, 2224, 4060, 6730, 9507, 11110, 10461, 9422, 3674, 1528, 753, 408, 208, 132, 85, 55, 32, 25, 9, 12, 10, 6, 2, 0, 1, 0, 0, 0]}],                        {\"template\": {\"data\": {\"bar\": [{\"error_x\": {\"color\": \"#2a3f5f\"}, \"error_y\": {\"color\": \"#2a3f5f\"}, \"marker\": {\"line\": {\"color\": \"#E5ECF6\", \"width\": 0.5}}, \"type\": \"bar\"}], \"barpolar\": [{\"marker\": {\"line\": {\"color\": \"#E5ECF6\", \"width\": 0.5}}, \"type\": \"barpolar\"}], \"carpet\": [{\"aaxis\": {\"endlinecolor\": \"#2a3f5f\", \"gridcolor\": \"white\", \"linecolor\": \"white\", \"minorgridcolor\": \"white\", \"startlinecolor\": \"#2a3f5f\"}, \"baxis\": {\"endlinecolor\": \"#2a3f5f\", \"gridcolor\": \"white\", \"linecolor\": \"white\", \"minorgridcolor\": \"white\", \"startlinecolor\": \"#2a3f5f\"}, \"type\": \"carpet\"}], \"choropleth\": [{\"colorbar\": {\"outlinewidth\": 0, \"ticks\": \"\"}, \"type\": \"choropleth\"}], \"contour\": [{\"colorbar\": {\"outlinewidth\": 0, \"ticks\": \"\"}, \"colorscale\": [[0.0, \"#0d0887\"], [0.1111111111111111, \"#46039f\"], [0.2222222222222222, \"#7201a8\"], [0.3333333333333333, \"#9c179e\"], [0.4444444444444444, \"#bd3786\"], [0.5555555555555556, \"#d8576b\"], [0.6666666666666666, \"#ed7953\"], [0.7777777777777778, \"#fb9f3a\"], [0.8888888888888888, \"#fdca26\"], [1.0, \"#f0f921\"]], \"type\": \"contour\"}], \"contourcarpet\": [{\"colorbar\": {\"outlinewidth\": 0, \"ticks\": \"\"}, \"type\": \"contourcarpet\"}], \"heatmap\": [{\"colorbar\": {\"outlinewidth\": 0, \"ticks\": \"\"}, \"colorscale\": [[0.0, \"#0d0887\"], [0.1111111111111111, \"#46039f\"], [0.2222222222222222, \"#7201a8\"], [0.3333333333333333, \"#9c179e\"], [0.4444444444444444, \"#bd3786\"], [0.5555555555555556, \"#d8576b\"], [0.6666666666666666, \"#ed7953\"], [0.7777777777777778, \"#fb9f3a\"], [0.8888888888888888, \"#fdca26\"], [1.0, \"#f0f921\"]], \"type\": \"heatmap\"}], \"heatmapgl\": [{\"colorbar\": {\"outlinewidth\": 0, \"ticks\": \"\"}, \"colorscale\": [[0.0, \"#0d0887\"], [0.1111111111111111, \"#46039f\"], [0.2222222222222222, \"#7201a8\"], [0.3333333333333333, \"#9c179e\"], [0.4444444444444444, \"#bd3786\"], [0.5555555555555556, \"#d8576b\"], [0.6666666666666666, \"#ed7953\"], [0.7777777777777778, \"#fb9f3a\"], [0.8888888888888888, \"#fdca26\"], [1.0, \"#f0f921\"]], \"type\": \"heatmapgl\"}], \"histogram\": [{\"marker\": {\"colorbar\": {\"outlinewidth\": 0, \"ticks\": \"\"}}, \"type\": \"histogram\"}], \"histogram2d\": [{\"colorbar\": {\"outlinewidth\": 0, \"ticks\": \"\"}, \"colorscale\": [[0.0, \"#0d0887\"], [0.1111111111111111, \"#46039f\"], [0.2222222222222222, \"#7201a8\"], [0.3333333333333333, \"#9c179e\"], [0.4444444444444444, \"#bd3786\"], [0.5555555555555556, \"#d8576b\"], [0.6666666666666666, \"#ed7953\"], [0.7777777777777778, \"#fb9f3a\"], [0.8888888888888888, \"#fdca26\"], [1.0, \"#f0f921\"]], \"type\": \"histogram2d\"}], \"histogram2dcontour\": [{\"colorbar\": {\"outlinewidth\": 0, \"ticks\": \"\"}, \"colorscale\": [[0.0, \"#0d0887\"], [0.1111111111111111, \"#46039f\"], [0.2222222222222222, \"#7201a8\"], [0.3333333333333333, \"#9c179e\"], [0.4444444444444444, \"#bd3786\"], [0.5555555555555556, \"#d8576b\"], [0.6666666666666666, \"#ed7953\"], [0.7777777777777778, \"#fb9f3a\"], [0.8888888888888888, \"#fdca26\"], [1.0, \"#f0f921\"]], \"type\": \"histogram2dcontour\"}], \"mesh3d\": [{\"colorbar\": {\"outlinewidth\": 0, \"ticks\": \"\"}, \"type\": \"mesh3d\"}], \"parcoords\": [{\"line\": {\"colorbar\": {\"outlinewidth\": 0, \"ticks\": \"\"}}, \"type\": \"parcoords\"}], \"pie\": [{\"automargin\": true, \"type\": \"pie\"}], \"scatter\": [{\"marker\": {\"colorbar\": {\"outlinewidth\": 0, \"ticks\": \"\"}}, \"type\": \"scatter\"}], \"scatter3d\": [{\"line\": {\"colorbar\": {\"outlinewidth\": 0, \"ticks\": \"\"}}, \"marker\": {\"colorbar\": {\"outlinewidth\": 0, \"ticks\": \"\"}}, \"type\": \"scatter3d\"}], \"scattercarpet\": [{\"marker\": {\"colorbar\": {\"outlinewidth\": 0, \"ticks\": \"\"}}, \"type\": \"scattercarpet\"}], \"scattergeo\": [{\"marker\": {\"colorbar\": {\"outlinewidth\": 0, \"ticks\": \"\"}}, \"type\": \"scattergeo\"}], \"scattergl\": [{\"marker\": {\"colorbar\": {\"outlinewidth\": 0, \"ticks\": \"\"}}, \"type\": \"scattergl\"}], \"scattermapbox\": [{\"marker\": {\"colorbar\": {\"outlinewidth\": 0, \"ticks\": \"\"}}, \"type\": \"scattermapbox\"}], \"scatterpolar\": [{\"marker\": {\"colorbar\": {\"outlinewidth\": 0, \"ticks\": \"\"}}, \"type\": \"scatterpolar\"}], \"scatterpolargl\": [{\"marker\": {\"colorbar\": {\"outlinewidth\": 0, \"ticks\": \"\"}}, \"type\": \"scatterpolargl\"}], \"scatterternary\": [{\"marker\": {\"colorbar\": {\"outlinewidth\": 0, \"ticks\": \"\"}}, \"type\": \"scatterternary\"}], \"surface\": [{\"colorbar\": {\"outlinewidth\": 0, \"ticks\": \"\"}, \"colorscale\": [[0.0, \"#0d0887\"], [0.1111111111111111, \"#46039f\"], [0.2222222222222222, \"#7201a8\"], [0.3333333333333333, \"#9c179e\"], [0.4444444444444444, \"#bd3786\"], [0.5555555555555556, \"#d8576b\"], [0.6666666666666666, \"#ed7953\"], [0.7777777777777778, \"#fb9f3a\"], [0.8888888888888888, \"#fdca26\"], [1.0, \"#f0f921\"]], \"type\": \"surface\"}], \"table\": [{\"cells\": {\"fill\": {\"color\": \"#EBF0F8\"}, \"line\": {\"color\": \"white\"}}, \"header\": {\"fill\": {\"color\": \"#C8D4E3\"}, \"line\": {\"color\": \"white\"}}, \"type\": \"table\"}]}, \"layout\": {\"annotationdefaults\": {\"arrowcolor\": \"#2a3f5f\", \"arrowhead\": 0, \"arrowwidth\": 1}, \"coloraxis\": {\"colorbar\": {\"outlinewidth\": 0, \"ticks\": \"\"}}, \"colorscale\": {\"diverging\": [[0, \"#8e0152\"], [0.1, \"#c51b7d\"], [0.2, \"#de77ae\"], [0.3, \"#f1b6da\"], [0.4, \"#fde0ef\"], [0.5, \"#f7f7f7\"], [0.6, \"#e6f5d0\"], [0.7, \"#b8e186\"], [0.8, \"#7fbc41\"], [0.9, \"#4d9221\"], [1, \"#276419\"]], \"sequential\": [[0.0, \"#0d0887\"], [0.1111111111111111, \"#46039f\"], [0.2222222222222222, \"#7201a8\"], [0.3333333333333333, \"#9c179e\"], [0.4444444444444444, \"#bd3786\"], [0.5555555555555556, \"#d8576b\"], [0.6666666666666666, \"#ed7953\"], [0.7777777777777778, \"#fb9f3a\"], [0.8888888888888888, \"#fdca26\"], [1.0, \"#f0f921\"]], \"sequentialminus\": [[0.0, \"#0d0887\"], [0.1111111111111111, \"#46039f\"], [0.2222222222222222, \"#7201a8\"], [0.3333333333333333, \"#9c179e\"], [0.4444444444444444, \"#bd3786\"], [0.5555555555555556, \"#d8576b\"], [0.6666666666666666, \"#ed7953\"], [0.7777777777777778, \"#fb9f3a\"], [0.8888888888888888, \"#fdca26\"], [1.0, \"#f0f921\"]]}, \"colorway\": [\"#636efa\", \"#EF553B\", \"#00cc96\", \"#ab63fa\", \"#FFA15A\", \"#19d3f3\", \"#FF6692\", \"#B6E880\", \"#FF97FF\", \"#FECB52\"], \"font\": {\"color\": \"#2a3f5f\"}, \"geo\": {\"bgcolor\": \"white\", \"lakecolor\": \"white\", \"landcolor\": \"#E5ECF6\", \"showlakes\": true, \"showland\": true, \"subunitcolor\": \"white\"}, \"hoverlabel\": {\"align\": \"left\"}, \"hovermode\": \"closest\", \"mapbox\": {\"style\": \"light\"}, \"paper_bgcolor\": \"white\", \"plot_bgcolor\": \"#E5ECF6\", \"polar\": {\"angularaxis\": {\"gridcolor\": \"white\", \"linecolor\": \"white\", \"ticks\": \"\"}, \"bgcolor\": \"#E5ECF6\", \"radialaxis\": {\"gridcolor\": \"white\", \"linecolor\": \"white\", \"ticks\": \"\"}}, \"scene\": {\"xaxis\": {\"backgroundcolor\": \"#E5ECF6\", \"gridcolor\": \"white\", \"gridwidth\": 2, \"linecolor\": \"white\", \"showbackground\": true, \"ticks\": \"\", \"zerolinecolor\": \"white\"}, \"yaxis\": {\"backgroundcolor\": \"#E5ECF6\", \"gridcolor\": \"white\", \"gridwidth\": 2, \"linecolor\": \"white\", \"showbackground\": true, \"ticks\": \"\", \"zerolinecolor\": \"white\"}, \"zaxis\": {\"backgroundcolor\": \"#E5ECF6\", \"gridcolor\": \"white\", \"gridwidth\": 2, \"linecolor\": \"white\", \"showbackground\": true, \"ticks\": \"\", \"zerolinecolor\": \"white\"}}, \"shapedefaults\": {\"line\": {\"color\": \"#2a3f5f\"}}, \"ternary\": {\"aaxis\": {\"gridcolor\": \"white\", \"linecolor\": \"white\", \"ticks\": \"\"}, \"baxis\": {\"gridcolor\": \"white\", \"linecolor\": \"white\", \"ticks\": \"\"}, \"bgcolor\": \"#E5ECF6\", \"caxis\": {\"gridcolor\": \"white\", \"linecolor\": \"white\", \"ticks\": \"\"}}, \"title\": {\"x\": 0.05}, \"xaxis\": {\"automargin\": true, \"gridcolor\": \"white\", \"linecolor\": \"white\", \"ticks\": \"\", \"title\": {\"standoff\": 15}, \"zerolinecolor\": \"white\", \"zerolinewidth\": 2}, \"yaxis\": {\"automargin\": true, \"gridcolor\": \"white\", \"linecolor\": \"white\", \"ticks\": \"\", \"title\": {\"standoff\": 15}, \"zerolinecolor\": \"white\", \"zerolinewidth\": 2}}}, \"title\": {\"text\": \"Normalized edit distance distribution\"}, \"xaxis\": {\"title\": {\"text\": \"edit distances\"}}, \"yaxis\": {\"title\": {\"text\": \"Numbers\"}}},                        {\"responsive\": true}                    ).then(function(){\n",
       "                            \n",
       "var gd = document.getElementById('4607990c-aa60-4828-8561-9e19697dc754');\n",
       "var x = new MutationObserver(function (mutations, observer) {{\n",
       "        var display = window.getComputedStyle(gd).display;\n",
       "        if (!display || display === 'none') {{\n",
       "            console.log([gd, 'removed!']);\n",
       "            Plotly.purge(gd);\n",
       "            observer.disconnect();\n",
       "        }}\n",
       "}});\n",
       "\n",
       "// Listen for the removal of the full notebook cells\n",
       "var notebookContainer = gd.closest('#notebook-container');\n",
       "if (notebookContainer) {{\n",
       "    x.observe(notebookContainer, {childList: true});\n",
       "}}\n",
       "\n",
       "// Listen for the clearing of the current output cell\n",
       "var outputEl = gd.closest('.output');\n",
       "if (outputEl) {{\n",
       "    x.observe(outputEl, {childList: true});\n",
       "}}\n",
       "\n",
       "                        })                };                });            </script>        </div>"
      ]
     },
     "metadata": {},
     "output_type": "display_data"
    }
   ],
   "source": [
    "edit_distance_compare(final_edit_distance, minimap2_full_edit_distance, raw_edit_distance, hybrid=True)"
   ]
  },
  {
   "cell_type": "code",
   "execution_count": 131,
   "metadata": {},
   "outputs": [],
   "source": [
    "def sv_calling_evaluation(min_read, final_bam, minimap2_bam, simulated_sv_bed, bp_shift):\n",
    "    final_sv = os.path.join(work_dir, \"final_sniffles.vcf\")\n",
    "    final_sv_eval = os.path.join(work_dir, \"final_eval\")\n",
    "    minimap2_sv = os.path.join(work_dir, \"minimap2_full_sniffles.vcf\")\n",
    "    minimap2_sv_eval = os.path.join(work_dir, \"minimap2_full_eval\")\n",
    "    \n",
    "    hybrid_NGMLR_sv_cmd = f\"sniffles -s {min_read} -m {final_bam} -v {final_sv} -t {threads}\"\n",
    "    minimap2_sv_cmd = f\"sniffles -s {min_read} -m {minimap2_bam} -v {minimap2_sv} -t {threads}\"\n",
    "    hybrid_NGMLR_sv_eval_cmd = f\"SURVIVOR eval {final_sv} {simulated_sv_bed} {bp_shift} {final_sv_eval} > {final_sv_eval}.out\"\n",
    "    minimap2_sv_eval_cmd = f\"SURVIVOR eval {minimap2_sv} {simulated_sv_bed} {bp_shift} {minimap2_sv_eval} > {minimap2_sv_eval}.out\"\n",
    "    \n",
    "    os.system(hybrid_NGMLR_sv_cmd)\n",
    "    os.system(minimap2_sv_cmd)\n",
    "    os.system(hybrid_NGMLR_sv_eval_cmd)\n",
    "    os.system(minimap2_sv_eval_cmd)\n",
    "    \n",
    "    with open(f\"{final_sv_eval}.out\", \"r\") as eval_file:\n",
    "        print(eval_file.readlines()[-1])\n",
    "    with open(f\"{minimap2_sv_eval}.out\", \"r\") as eval_file:\n",
    "        print(eval_file.readlines()[-1])"
   ]
  },
  {
   "cell_type": "code",
   "execution_count": 132,
   "metadata": {},
   "outputs": [],
   "source": [
    "simulated_sv_bed = \"/home/Users/yf20/projects/hybrid_NGMLR/Saccharomyces_cerevisiae/sv_simulated.bed\""
   ]
  },
  {
   "cell_type": "code",
   "execution_count": 134,
   "metadata": {},
   "outputs": [
    {
     "name": "stdout",
     "output_type": "stream",
     "text": [
      " Overall: 145 32/24/38/40/4 4/1/2/0/0 24/7/4/3/11 0.951724 0.262032\n",
      "\n",
      " Overall: 145 30/10/34/40/4 6/15/6/0/0 27/7/9/2/28 0.813793 0.382199\n",
      "\n"
     ]
    }
   ],
   "source": [
    "sv_calling_evaluation(2, final_bam, minimap2_full_bam, simulated_sv_bed, 30)"
   ]
  },
  {
   "cell_type": "code",
   "execution_count": 135,
   "metadata": {},
   "outputs": [],
   "source": [
    "def sv_calling_evaluation_dry(min_read, final_bam, minimap2_bam, simulated_sv_bed, bp_shift):\n",
    "    final_sv = os.path.join(work_dir, \"final\")\n",
    "    final_sv_eval = os.path.join(work_dir, \"final_eval\")\n",
    "    minimap2_sv = os.path.join(work_dir, \"minimap2_full\")\n",
    "    minimap2_sv_eval = os.path.join(work_dir, \"minimap2_full_eval\")\n",
    "    \n",
    "    hybrid_NGMLR_sv_cmd = f\"sniffles -s {min_read} -m {final_bam} -v {final_sv} -t {threads}\"\n",
    "    minimap2_sv_cmd = f\"sniffles -s {min_read} -m {minimap2_bam} -v {minimap2_sv} -t {threads}\"\n",
    "    hybrid_NGMLR_sv_eval_cmd = f\"SURVIVOR eval {final_sv} {simulated_sv_bed} {bp_shift} {final_sv_eval} > {final_sv_eval}.out\"\n",
    "    minimap2_sv_eval_cmd = f\"SURVIVOR eval {minimap2_sv} {simulated_sv_bed} {bp_shift} {minimap2_sv_eval} > {minimap2_sv_eval}.out\"\n",
    "    \n",
    "    print(hybrid_NGMLR_sv_cmd)\n",
    "    print(minimap2_sv_cmd)\n",
    "    print(hybrid_NGMLR_sv_eval_cmd)\n",
    "    print(minimap2_sv_eval_cmd)\n",
    "    \n",
    "    with open(f\"{final_sv_eval}.out\", \"r\") as eval_file:\n",
    "        print(eval_file.readlines()[-1])\n",
    "    with open(f\"{minimap2_sv_eval}.out\", \"r\") as eval_file:\n",
    "        print(eval_file.readlines()[-1])"
   ]
  },
  {
   "cell_type": "code",
   "execution_count": 136,
   "metadata": {},
   "outputs": [
    {
     "name": "stdout",
     "output_type": "stream",
     "text": [
      "sniffles -s 2 -m ../Saccharomyces_cerevisiae/work/hybrid_ngmlr.bam -v ../Saccharomyces_cerevisiae/work/final -t 60\n",
      "sniffles -s 2 -m ../Saccharomyces_cerevisiae/work/minimap2_full.bam -v ../Saccharomyces_cerevisiae/work/minimap2_full -t 60\n",
      "SURVIVOR eval ../Saccharomyces_cerevisiae/work/final /home/Users/yf20/projects/hybrid_NGMLR/Saccharomyces_cerevisiae/sv_simulated.bed 30 ../Saccharomyces_cerevisiae/work/final_eval > ../Saccharomyces_cerevisiae/work/final_eval.out\n",
      "SURVIVOR eval ../Saccharomyces_cerevisiae/work/minimap2_full /home/Users/yf20/projects/hybrid_NGMLR/Saccharomyces_cerevisiae/sv_simulated.bed 30 ../Saccharomyces_cerevisiae/work/minimap2_full_eval > ../Saccharomyces_cerevisiae/work/minimap2_full_eval.out\n",
      " Overall: 145 32/24/38/40/4 4/1/2/0/0 24/7/4/3/11 0.951724 0.262032\n",
      "\n",
      " Overall: 145 30/10/34/40/4 6/15/6/0/0 27/7/9/2/28 0.813793 0.382199\n",
      "\n"
     ]
    }
   ],
   "source": [
    "sv_calling_evaluation_dry(2, final_bam, minimap2_full_bam, simulated_sv_bed, 30)"
   ]
  },
  {
   "cell_type": "code",
   "execution_count": null,
   "metadata": {},
   "outputs": [],
   "source": []
  }
 ],
 "metadata": {
  "kernelspec": {
   "display_name": "Python 3.7.3 64-bit ('base': conda)",
   "language": "python",
   "name": "python37364bitbasecondaf3ea22a62fb84537beb9444ae65a2b66"
  },
  "language_info": {
   "codemirror_mode": {
    "name": "ipython",
    "version": 3
   },
   "file_extension": ".py",
   "mimetype": "text/x-python",
   "name": "python",
   "nbconvert_exporter": "python",
   "pygments_lexer": "ipython3",
   "version": "3.8.6"
  }
 },
 "nbformat": 4,
 "nbformat_minor": 4
}
